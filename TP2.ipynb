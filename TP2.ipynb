{
 "cells": [
  {
   "cell_type": "markdown",
   "id": "d457837c",
   "metadata": {},
   "source": [
    "# Exercice 7 du TD2 : "
   ]
  },
  {
   "cell_type": "markdown",
   "id": "bfe4ca90",
   "metadata": {},
   "source": [
    "#### Considérons une version revisitée du paradoxe de Monty Hall. Cette fois, Monty préfère ouvrir la porte 2 (P = 3/4), plutôt que la 3, lorsqu’il a le choix entre ces deux portes. Considérons le cas où vous avez choisi initialement la porte 1.\n",
    "\n",
    "#### (a) Calculer la probabilité absolue (non-conditionnelle) que la stratégie de toujours changer son choix initial soit gagnante (non-conditionnelle : pas de conditionsur la porte ouverte par Monty).\n",
    "\n",
    "#### (b) Calculer la probabilité que la stratégie de toujours changer son choix initial soit gagnante, sachant que Monty a ouvert la porte 2.\n",
    "\n",
    "#### (c) Idem, sachant que Monty a ouvert la porte 3."
   ]
  },
  {
   "cell_type": "markdown",
   "id": "3709190e",
   "metadata": {},
   "source": [
    "## Méthode analytique : "
   ]
  },
  {
   "cell_type": "markdown",
   "id": "2f6267b9",
   "metadata": {},
   "source": [
    "#### a) La probabilité absolue que la stratégie de changer son choix soit toujours gagnante indépendamment du choix de Monty : "
   ]
  },
  {
   "cell_type": "code",
   "execution_count": 23,
   "id": "a256d79b",
   "metadata": {},
   "outputs": [
    {
     "name": "stdout",
     "output_type": "stream",
     "text": [
      "La probabilité de gagner dès le premier choix est de :  33.33%\n"
     ]
    }
   ],
   "source": [
    "cardinal = 3                                # 3 portes au total \n",
    "\n",
    "V1 = 1                                      # Déclaration de la chance que la voiture se trouve derrière une porte donnée \n",
    "V2 = 1 \n",
    "V3 = 1 \n",
    "\n",
    "choix_1 = V1 / cardinal                     # Probabilité du premier choix : choisir la porte 1 \n",
    "print(\"La probabilité de gagner dès le premier choix est de : \", f\"{choix_1 * 100:.2f}%\")"
   ]
  },
  {
   "cell_type": "markdown",
   "id": "2a5e3398",
   "metadata": {},
   "source": [
    "#### Calculons la probabilité de gagner en changeant son choix avec la LOTP : \n",
    "#### $$\\mathbb{P}(Choix_2) = \\sum_{i=1}^{3} \\mathbb{P}(G \\cap V_i) = \\sum_{i=1}^{3} \\mathbb{P}(G \\mid V_i) \\cdot \\mathbb{P}(V_i)$$\n"
   ]
  },
  {
   "cell_type": "code",
   "execution_count": 24,
   "id": "99408e55",
   "metadata": {},
   "outputs": [
    {
     "name": "stdout",
     "output_type": "stream",
     "text": [
      "La probabilité de gagner en changeant son premier choix est de :  66.67%\n"
     ]
    }
   ],
   "source": [
    "# Discussion des cas : P(choix_2) = P(gagner si la voiture est derrière P1) + P(gagner si la voiture est derrière P2) + P(gagner si la voiture est derrière P3)\n",
    " \n",
    "choix_21 = 0 * (V1 / cardinal)                  # Cas 1 : la voiture derriere P1 donc si je change je perds \n",
    "\n",
    "choix_22 = 1 * (V2 / cardinal)                  # Cas 2 : la voiture est derrièe P2 donc Monty ouvre P3. Si je change, je gagne                    \n",
    "\n",
    "choix_23 = 1 * (V3 / cardinal)                  # Cas 3 : la voitue est derrière P3 donc Monty ouvre P2. Si je change, je gagne \n",
    "\n",
    "choix_2 = (choix_21 + choix_22 + choix_23)      # Sommer les probabilités des trois cas \n",
    "\n",
    "print(\"La probabilité de gagner en changeant son premier choix est de : \", f\"{choix_2 * 100:.2f}%\")                                                    # Affichage en %   "
   ]
  },
  {
   "cell_type": "markdown",
   "id": "249f1e14",
   "metadata": {},
   "source": [
    "#### b) La probabilité que la stratégie de toujours changer son choix initial soit gagnante, sachant que Monty a ouvert la porte 2 : "
   ]
  },
  {
   "cell_type": "markdown",
   "id": "24e784a6",
   "metadata": {},
   "source": [
    "#### Pour que le changement de son choix soit gagnant, la voiture se trouve obligatoirement derrière P3. Calculons la probabilité conditionnelle en utilisant Bayes : \n",
    "#### $$P(V3 \\mid P2) = \\frac{P(P2 \\mid V3)  \\cdot  P(V3)}{P(P2)}$$"
   ]
  },
  {
   "cell_type": "markdown",
   "id": "80fe419d",
   "metadata": {},
   "source": [
    "#### Comme Monty est obligé d'ouvrir la porte 2 si la voiture est derrière la porte 3 :\n"
   ]
  },
  {
   "cell_type": "markdown",
   "id": "e3ea1db6",
   "metadata": {},
   "source": [
    "#### $$P(P2 \\mid V3) = 1$$ \n"
   ]
  },
  {
   "cell_type": "markdown",
   "id": "3cb6b12f",
   "metadata": {},
   "source": [
    "#### Sachant qu'on a ouvert la porte 1, calculons P(P2) : \n",
    "#### $$P(P2) = P(P2 \\mid V3) \\cdot P(V3) + P(P2 \\mid V1) \\cdot P(V1) + P(P2 \\mid V2) \\cdot P(V2)$$"
   ]
  },
  {
   "cell_type": "code",
   "execution_count": null,
   "id": "fa60fa50",
   "metadata": {},
   "outputs": [
    {
     "name": "stdout",
     "output_type": "stream",
     "text": [
      "La probabilité que la stratégie soit gagnante si Monty ouvre P2 est de :  57.14%\n"
     ]
    }
   ],
   "source": [
    "p2_v3 = 1                                                # il a pas le choix, obligé d'ouvrir P2\n",
    "p2_v1 = 3/4                                              # Si Monty a le choix entre la 2 et la 3 la proba de chosir 2 est de 3/4\n",
    "p2_v2 = 0                                                # il ne oeut pas dévoiler la voiture \n",
    "v1 = V1 / cardinal                                       # La proba que la voiture soit derrière une porte donnée \n",
    "v2 = V2 / cardinal\n",
    "v3 = V3 / cardinal\n",
    "\n",
    "P2 = p2_v3 * v3  + p2_v1 * v1 + p2_v2 * v2                      \n",
    "\n",
    "v3_p2 = (p2_v3 * v3) / P2                               # Application de la formule \n",
    "print(\"La probabilité que la stratégie soit gagnante si Monty ouvre P2 est de : \", f\"{v3_p2 * 100:.2f}%\")\n"
   ]
  },
  {
   "cell_type": "markdown",
   "id": "52342790",
   "metadata": {},
   "source": [
    "#### c) La probabilité que la stratégie de toujours changer son choix initial soit gagnante, sachant que Monty a ouvert la porte 3 : "
   ]
  },
  {
   "cell_type": "markdown",
   "id": "57bcfc53",
   "metadata": {},
   "source": [
    "#### Le meme processus que la question B sauf que la voiture se trouve derrière la porte 2. Calculons donc : \n",
    "#### $$P(V2 \\mid P3) = \\frac{P(P3 \\mid V2)  \\cdot  P(V2)}{P(P3)}$$"
   ]
  },
  {
   "cell_type": "markdown",
   "id": "ac1487d5",
   "metadata": {},
   "source": [
    "#### Comme Monty est obligé d'ouvrir la porte 3 si la voiture est derrière la porte 2 :\n"
   ]
  },
  {
   "cell_type": "markdown",
   "id": "37180e6b",
   "metadata": {},
   "source": [
    "#### $$P(P3 \\mid V2) = 1$$ \n"
   ]
  },
  {
   "cell_type": "markdown",
   "id": "c894f619",
   "metadata": {},
   "source": [
    "#### Sachant qu'on a ouvert la porte 1, calculons P(P3) : \n",
    "#### $$P(P3) = P(P3 \\mid V2) \\cdot P(V2) + P(P3 \\mid V1) \\cdot P(V1) + P(P3 \\mid V3) \\cdot P(V3)$$"
   ]
  },
  {
   "cell_type": "code",
   "execution_count": null,
   "id": "28fb9736",
   "metadata": {},
   "outputs": [
    {
     "name": "stdout",
     "output_type": "stream",
     "text": [
      "La probabilité que la stratégie soit gagnante si Monty ouvre P3 est de :  80.00%\n"
     ]
    }
   ],
   "source": [
    "p3_v2 = 1                                               # il n'a pas d'autres choix \n",
    "p3_v1 = 1/4                                             # Si Monty a le choix entre P2 et P3, il chosit P3 avec une proba de 1/4 \n",
    "p3_v3 = 0                                               # il ne peut pas dévoiler la voiture \n",
    "\n",
    "P3 = p3_v2 * v2 + p3_v1 * v1 + p3_v3 * v3               # Application de la formule \n",
    "\n",
    "v2_p3 = (p3_v2 * v2) / P3\n",
    "print(\"La probabilité que la stratégie soit gagnante si Monty ouvre P3 est de : \", f\"{v2_p3 * 100:.2f}%\")  "
   ]
  },
  {
   "cell_type": "code",
   "execution_count": null,
   "id": "0c3497b4",
   "metadata": {},
   "outputs": [
    {
     "name": "stdout",
     "output_type": "stream",
     "text": [
      "La probabilité de gagner dès le premier choix est de :  33.33%\n",
      "La probabilité de gagner en changeant son premier choix est de :  66.67%\n",
      "La probabilité que la stratégie soit gagnante si Monty ouvre P2 est de :  57.14%\n",
      "La probabilité que la stratégie soit gagnante si Monty ouvre P3 est de :  80.00%\n"
     ]
    }
   ],
   "source": [
    "cardinal = 3                                                                                                                                 \n",
    "\n",
    "V1 = 1                                                                                                                                      \n",
    "V2 = 1 \n",
    "V3 = 1 \n",
    "choix_1 = V1 / cardinal                                                                                                                     \n",
    "print(\"La probabilité de gagner dès le premier choix est de : \", f\"{choix_1 * 100:.2f}%\") \n",
    "\n",
    "choix_2 = 0 * (V1 / cardinal) + 1 * (V2 / cardinal) + 1 * (V3 / cardinal)                                                                  \n",
    "\n",
    "print(\"La probabilité de gagner en changeant son premier choix est de : \", f\"{choix_2 * 100:.2f}%\")  \n",
    "\n",
    "p2_v3 = 1\n",
    "p2_v1 = 3/4                                                                                                                                  \n",
    "p2_v2 = 0\n",
    "v1 = V1 / cardinal                                                                                                                           \n",
    "v2 = V2 / cardinal\n",
    "v3 = V3 / cardinal\n",
    "\n",
    "P2 = p2_v3 * v3  + p2_v1 * v1 + p2_v2 * v2\n",
    "\n",
    "v3_p2 = (p2_v3 * v3) / P2                                                                                                                    \n",
    "print(\"La probabilité que la stratégie soit gagnante si Monty ouvre P2 est de : \", f\"{v3_p2 * 100:.2f}%\")\n",
    "\n",
    "p3_v2 = 1\n",
    "p3_v1 = 1/4                                                                                                                                  \n",
    "p3_v3 = 0                                          \n",
    "\n",
    "P3 = p3_v2 * v2 + p3_v1 * v1 + p3_v3 * v3                                                                                                    \n",
    "\n",
    "v2_p3 = (p3_v2 * v2) / P3\n",
    "print(\"La probabilité que la stratégie soit gagnante si Monty ouvre P3 est de : \", f\"{v2_p3 * 100:.2f}%\")  "
   ]
  },
  {
   "cell_type": "markdown",
   "id": "288f5cc5",
   "metadata": {},
   "source": [
    "## <u>Conclusion</u> : \n",
    "#### La préférence de Monty d'ouvrir une porte en particulier ne change rien à l'efficacité de la stratégie de toujpours changer son choix initial."
   ]
  }
 ],
 "metadata": {
  "kernelspec": {
   "display_name": "Python 3",
   "language": "python",
   "name": "python3"
  },
  "language_info": {
   "codemirror_mode": {
    "name": "ipython",
    "version": 3
   },
   "file_extension": ".py",
   "mimetype": "text/x-python",
   "name": "python",
   "nbconvert_exporter": "python",
   "pygments_lexer": "ipython3",
   "version": "3.13.7"
  }
 },
 "nbformat": 4,
 "nbformat_minor": 5
}
