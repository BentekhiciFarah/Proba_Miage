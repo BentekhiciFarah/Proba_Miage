{
 "cells": [
  {
   "cell_type": "markdown",
   "id": "d457837c",
   "metadata": {},
   "source": [
    "# Exercice 7 du TD2 : "
   ]
  },
  {
   "cell_type": "markdown",
   "id": "bfe4ca90",
   "metadata": {},
   "source": [
    "#### Considérons une version revisitée du paradoxe de Monty Hall. Cette fois, Monty préfère ouvrir la porte 2 (P = 3/4), plutôt que la 3, lorsqu’il a le choix entre ces deux portes. Considérons le cas où vous avez choisi initialement la porte 1.\n",
    "\n",
    "#### (a) Calculer la probabilité absolue (non-conditionnelle) que la stratégie de toujours changer son choix initial soit gagnante (non-conditionnelle : pas de conditionsur la porte ouverte par Monty).\n",
    "\n",
    "#### (b) Calculer la probabilité que la stratégie de toujours changer son choix initial soit gagnante, sachant que Monty a ouvert la porte 2.\n",
    "\n",
    "#### (c) Idem, sachant que Monty a ouvert la porte 3."
   ]
  },
  {
   "cell_type": "markdown",
   "id": "225472ee",
   "metadata": {},
   "source": []
  },
  {
   "cell_type": "markdown",
   "id": "3709190e",
   "metadata": {},
   "source": [
    "## Méthode analytique : "
   ]
  },
  {
   "cell_type": "markdown",
   "id": "2f6267b9",
   "metadata": {},
   "source": [
    "#### a) La probabilité absolue que la stratégie de changer son choix soit toujours gagnante indépendamment du choix de Monty : "
   ]
  },
  {
   "cell_type": "markdown",
   "id": "5327c5fa",
   "metadata": {},
   "source": []
  }
 ],
 "metadata": {
  "language_info": {
   "name": "python"
  }
 },
 "nbformat": 4,
 "nbformat_minor": 5
}
