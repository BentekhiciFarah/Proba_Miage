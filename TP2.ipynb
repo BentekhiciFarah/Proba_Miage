{
 "cells": [
  {
   "cell_type": "markdown",
   "id": "d457837c",
   "metadata": {},
   "source": [
    "# Exercice 7 du TD2 : "
   ]
  },
  {
   "cell_type": "markdown",
   "id": "bfe4ca90",
   "metadata": {},
   "source": [
    "#### Considérons une version revisitée du paradoxe de Monty Hall. Cette fois, Monty préfère ouvrir la porte 2 (P = 3/4), plutôt que la 3, lorsqu’il a le choix entre ces deux portes. Considérons le cas où vous avez choisi initialement la porte 1.\n",
    "\n",
    "#### (a) Calculer la probabilité absolue (non-conditionnelle) que la stratégie de toujours changer son choix initial soit gagnante (non-conditionnelle : pas de conditionsur la porte ouverte par Monty).\n",
    "\n",
    "#### (b) Calculer la probabilité que la stratégie de toujours changer son choix initial soit gagnante, sachant que Monty a ouvert la porte 2.\n",
    "\n",
    "#### (c) Idem, sachant que Monty a ouvert la porte 3."
   ]
  },
  {
   "cell_type": "markdown",
   "id": "3709190e",
   "metadata": {},
   "source": [
    "## Méthode analytique : "
   ]
  },
  {
   "cell_type": "markdown",
   "id": "2f6267b9",
   "metadata": {},
   "source": [
    "#### a) La probabilité absolue que la stratégie de changer son choix soit toujours gagnante indépendamment du choix de Monty : "
   ]
  },
  {
   "cell_type": "code",
   "execution_count": 23,
   "id": "a256d79b",
   "metadata": {},
   "outputs": [
    {
     "name": "stdout",
     "output_type": "stream",
     "text": [
      "La probabilité de gagner dès le premier choix est de :  33.33%\n"
     ]
    }
   ],
   "source": [
    "cardinal = 3                                # 3 portes au total \n",
    "\n",
    "V1 = 1                                      # Déclaration de la chance que la voiture se trouve derrière une porte donnée \n",
    "V2 = 1 \n",
    "V3 = 1 \n",
    "\n",
    "choix_1 = V1 / cardinal                     # Probabilité du premier choix : choisir la porte 1 \n",
    "print(\"La probabilité de gagner dès le premier choix est de : \", f\"{choix_1 * 100:.2f}%\")"
   ]
  },
  {
   "cell_type": "markdown",
   "id": "2a5e3398",
   "metadata": {},
   "source": [
    "#### Calculons la probabilité de gagner en changeant son choix avec la LOTP : \n",
    "#### $$\\mathbb{P}(Choix_2) = \\sum_{i=1}^{3} \\mathbb{P}(G \\cap V_i) = \\sum_{i=1}^{3} \\mathbb{P}(G \\mid V_i) \\cdot \\mathbb{P}(V_i)$$\n"
   ]
  },
  {
   "cell_type": "code",
   "execution_count": 24,
   "id": "99408e55",
   "metadata": {},
   "outputs": [
    {
     "name": "stdout",
     "output_type": "stream",
     "text": [
      "La probabilité de gagner en changeant son premier choix est de :  66.67%\n"
     ]
    }
   ],
   "source": [
    "# Discussion des cas : P(choix_2) = P(gagner si la voiture est derrière P1) + P(gagner si la voiture est derrière P2) + P(gagner si la voiture est derrière P3)\n",
    " \n",
    "choix_21 = 0 * (V1 / cardinal)                  # Cas 1 : la voiture derriere P1 donc si je change je perds \n",
    "\n",
    "choix_22 = 1 * (V2 / cardinal)                  # Cas 2 : la voiture est derrièe P2 donc Monty ouvre P3. Si je change, je gagne                    \n",
    "\n",
    "choix_23 = 1 * (V3 / cardinal)                  # Cas 3 : la voitue est derrière P3 donc Monty ouvre P2. Si je change, je gagne \n",
    "\n",
    "choix_2 = (choix_21 + choix_22 + choix_23)      # Sommer les probabilités des trois cas \n",
    "\n",
    "print(\"La probabilité de gagner en changeant son premier choix est de : \", f\"{choix_2 * 100:.2f}%\")                                                    # Affichage en %   "
   ]
  },
  {
   "cell_type": "markdown",
   "id": "249f1e14",
   "metadata": {},
   "source": [
    "#### b) La probabilité que la stratégie de toujours changer son choix initial soit gagnante, sachant que Monty a ouvert la porte 2 : "
   ]
  },
  {
   "cell_type": "markdown",
   "id": "24e784a6",
   "metadata": {},
   "source": [
    "#### Pour que le changement de son choix soit gagnant, la voiture se trouve obligatoirement derrière P3. Calculons la probabilité conditionnelle en utilisant Bayes : \n",
    "#### $$P(V3 \\mid P2) = \\frac{P(P2 \\mid V3)  \\cdot  P(V3)}{P(P2)}$$"
   ]
  },
  {
   "cell_type": "markdown",
   "id": "80fe419d",
   "metadata": {},
   "source": [
    "#### Comme Monty est obligé d'ouvrir la porte 2 si la voiture est derrière la porte 3 :\n"
   ]
  },
  {
   "cell_type": "markdown",
   "id": "e3ea1db6",
   "metadata": {},
   "source": [
    "#### $$P(P2 \\mid V3) = 1$$ \n"
   ]
  },
  {
   "cell_type": "markdown",
   "id": "3cb6b12f",
   "metadata": {},
   "source": [
    "#### Sachant qu'on a ouvert la porte 1, calculons P(P2) : \n",
    "#### $$P(P2) = P(P2 \\mid V3) \\cdot P(V3) + P(P2 \\mid V1) \\cdot P(V1) + P(P2 \\mid V2) \\cdot P(V2)$$"
   ]
  },
  {
   "cell_type": "code",
   "execution_count": null,
   "id": "fa60fa50",
   "metadata": {},
   "outputs": [
    {
     "name": "stdout",
     "output_type": "stream",
     "text": [
      "La probabilité que la stratégie soit gagnante si Monty ouvre P2 est de :  57.14%\n"
     ]
    }
   ],
   "source": [
    "p2_v3 = 1                                                # il a pas le choix, obligé d'ouvrir P2\n",
    "p2_v1 = 3/4                                              # Si Monty a le choix entre la 2 et la 3 la proba de chosir 2 est de 3/4\n",
    "p2_v2 = 0                                                # il ne oeut pas dévoiler la voiture \n",
    "v1 = V1 / cardinal                                       # La proba que la voiture soit derrière une porte donnée \n",
    "v2 = V2 / cardinal\n",
    "v3 = V3 / cardinal\n",
    "\n",
    "P2 = p2_v3 * v3  + p2_v1 * v1 + p2_v2 * v2                      \n",
    "\n",
    "v3_p2 = (p2_v3 * v3) / P2                               # Application de la formule \n",
    "print(\"La probabilité que la stratégie soit gagnante si Monty ouvre P2 est de : \", f\"{v3_p2 * 100:.2f}%\")\n"
   ]
  },
  {
   "cell_type": "markdown",
   "id": "52342790",
   "metadata": {},
   "source": [
    "#### c) La probabilité que la stratégie de toujours changer son choix initial soit gagnante, sachant que Monty a ouvert la porte 3 : "
   ]
  },
  {
   "cell_type": "markdown",
   "id": "57bcfc53",
   "metadata": {},
   "source": [
    "#### Le meme processus que la question B sauf que la voiture se trouve derrière la porte 2. Calculons donc : \n",
    "#### $$P(V2 \\mid P3) = \\frac{P(P3 \\mid V2)  \\cdot  P(V2)}{P(P3)}$$"
   ]
  },
  {
   "cell_type": "markdown",
   "id": "ac1487d5",
   "metadata": {},
   "source": [
    "#### Comme Monty est obligé d'ouvrir la porte 3 si la voiture est derrière la porte 2 :\n"
   ]
  },
  {
   "cell_type": "markdown",
   "id": "37180e6b",
   "metadata": {},
   "source": [
    "#### $$P(P3 \\mid V2) = 1$$ \n"
   ]
  },
  {
   "cell_type": "markdown",
   "id": "c894f619",
   "metadata": {},
   "source": [
    "#### Sachant qu'on a ouvert la porte 1, calculons P(P3) : \n",
    "#### $$P(P3) = P(P3 \\mid V2) \\cdot P(V2) + P(P3 \\mid V1) \\cdot P(V1) + P(P3 \\mid V3) \\cdot P(V3)$$"
   ]
  },
  {
   "cell_type": "code",
   "execution_count": null,
   "id": "28fb9736",
   "metadata": {},
   "outputs": [
    {
     "name": "stdout",
     "output_type": "stream",
     "text": [
      "La probabilité que la stratégie soit gagnante si Monty ouvre P3 est de :  80.00%\n"
     ]
    }
   ],
   "source": [
    "p3_v2 = 1                                               # il n'a pas d'autres choix \n",
    "p3_v1 = 1/4                                             # Si Monty a le choix entre P2 et P3, il chosit P3 avec une proba de 1/4 \n",
    "p3_v3 = 0                                               # il ne peut pas dévoiler la voiture \n",
    "\n",
    "P3 = p3_v2 * v2 + p3_v1 * v1 + p3_v3 * v3               # Application de la formule \n",
    "\n",
    "v2_p3 = (p3_v2 * v2) / P3\n",
    "print(\"La probabilité que la stratégie soit gagnante si Monty ouvre P3 est de : \", f\"{v2_p3 * 100:.2f}%\")  "
   ]
  },
  {
   "cell_type": "code",
   "execution_count": null,
   "id": "0c3497b4",
   "metadata": {},
   "outputs": [
    {
     "name": "stdout",
     "output_type": "stream",
     "text": [
      "La probabilité de gagner dès le premier choix est de :  33.33%\n",
      "La probabilité de gagner en changeant son premier choix est de :  66.67%\n",
      "La probabilité que la stratégie soit gagnante si Monty ouvre P2 est de :  57.14%\n",
      "La probabilité que la stratégie soit gagnante si Monty ouvre P3 est de :  80.00%\n"
     ]
    }
   ],
   "source": [
    "cardinal = 3                                                                                                                                 \n",
    "\n",
    "V1 = 1                                                                                                                                      \n",
    "V2 = 1 \n",
    "V3 = 1 \n",
    "choix_1 = V1 / cardinal                                                                                                                     \n",
    "print(\"La probabilité de gagner dès le premier choix est de : \", f\"{choix_1 * 100:.2f}%\") \n",
    "\n",
    "choix_2 = 0 * (V1 / cardinal) + 1 * (V2 / cardinal) + 1 * (V3 / cardinal)                                                                  \n",
    "\n",
    "print(\"La probabilité de gagner en changeant son premier choix est de : \", f\"{choix_2 * 100:.2f}%\")  \n",
    "\n",
    "p2_v3 = 1\n",
    "p2_v1 = 3/4                                                                                                                                  \n",
    "p2_v2 = 0\n",
    "v1 = V1 / cardinal                                                                                                                           \n",
    "v2 = V2 / cardinal\n",
    "v3 = V3 / cardinal\n",
    "\n",
    "P2 = p2_v3 * v3  + p2_v1 * v1 + p2_v2 * v2\n",
    "\n",
    "v3_p2 = (p2_v3 * v3) / P2                                                                                                                    \n",
    "print(\"La probabilité que la stratégie soit gagnante si Monty ouvre P2 est de : \", f\"{v3_p2 * 100:.2f}%\")\n",
    "\n",
    "p3_v2 = 1\n",
    "p3_v1 = 1/4                                                                                                                                  \n",
    "p3_v3 = 0                                          \n",
    "\n",
    "P3 = p3_v2 * v2 + p3_v1 * v1 + p3_v3 * v3                                                                                                    \n",
    "\n",
    "v2_p3 = (p3_v2 * v2) / P3\n",
    "print(\"La probabilité que la stratégie soit gagnante si Monty ouvre P3 est de : \", f\"{v2_p3 * 100:.2f}%\")  "
   ]
  },
  {
   "cell_type": "markdown",
   "id": "288f5cc5",
   "metadata": {},
   "source": [
    "## <u>Conclusion</u> : \n",
    "#### La préférence de Monty d'ouvrir une porte en particulier ne change rien à l'efficacité de la stratégie de toujpours changer son choix initial."
   ]
  },
  {
   "cell_type": "code",
   "execution_count": 1,
   "id": "5e4f4fb3",
   "metadata": {},
   "outputs": [],
   "source": [
    "\n",
    "\n",
    "import matplotlib.pyplot as plt\n",
    "import numpy as np\n",
    "import pandas as pd\n",
    "import seaborn as sns\n",
    "import random"
   ]
  },
  {
   "cell_type": "markdown",
   "id": "fa3290e9",
   "metadata": {},
   "source": [
    "$$P(\\text{victoire}) = P(\\text{gain par Pte2 ou Pte3}) = \\tfrac{2}{3}$$"
   ]
  },
  {
   "cell_type": "markdown",
   "id": "3c4d6e54",
   "metadata": {},
   "source": [
    "Gagner Monty Hall par Force Brute"
   ]
  },
  {
   "cell_type": "markdown",
   "id": "46d20ca7",
   "metadata": {},
   "source": [
    "Question 7a"
   ]
  },
  {
   "cell_type": "code",
   "execution_count": 3,
   "id": "e3b27058",
   "metadata": {},
   "outputs": [
    {
     "name": "stdout",
     "output_type": "stream",
     "text": [
      "    choix_initial  porte_vic  porte_ouverte  choix_a_changement  gagne-change\n",
      "0               1          1              3                   2         False\n",
      "1               1          1              2                   3         False\n",
      "2               1          2              3                   2          True\n",
      "3               1          3              2                   3          True\n",
      "4               1          3              2                   3          True\n",
      "5               1          1              3                   2         False\n",
      "6               1          2              3                   2          True\n",
      "7               1          1              3                   2         False\n",
      "8               1          3              2                   3          True\n",
      "9               1          3              2                   3          True\n",
      "10              1          1              2                   3         False\n",
      "11              1          3              2                   3          True\n",
      "12              1          3              2                   3          True\n",
      "13              1          3              2                   3          True\n",
      "14              1          3              2                   3          True\n",
      "15              1          1              3                   2         False\n",
      "16              1          1              3                   2         False\n",
      "17              1          3              2                   3          True\n",
      "18              1          2              3                   2          True\n",
      "19              1          3              2                   3          True\n",
      "20              1          3              2                   3          True\n",
      "21              1          2              3                   2          True\n",
      "22              1          2              3                   2          True\n",
      "23              1          3              2                   3          True\n",
      "24              1          3              2                   3          True\n",
      "25              1          2              3                   2          True\n",
      "26              1          1              3                   2         False\n",
      "27              1          1              2                   3         False\n",
      "28              1          1              2                   3         False\n",
      "29              1          3              2                   3          True\n",
      "30              1          2              3                   2          True\n",
      "31              1          1              2                   3         False\n",
      "32              1          1              2                   3         False\n",
      "33              1          2              3                   2          True\n",
      "34              1          1              2                   3         False\n",
      "35              1          1              2                   3         False\n",
      "36              1          3              2                   3          True\n",
      "37              1          1              3                   2         False\n",
      "38              1          3              2                   3          True\n",
      "39              1          3              2                   3          True\n",
      "40              1          2              3                   2          True\n",
      "41              1          2              3                   2          True\n",
      "42              1          1              2                   3         False\n",
      "43              1          3              2                   3          True\n",
      "44              1          3              2                   3          True\n",
      "45              1          1              3                   2         False\n",
      "46              1          1              3                   2         False\n",
      "47              1          2              3                   2          True\n",
      "48              1          2              3                   2          True\n",
      "49              1          3              2                   3          True\n",
      "\n",
      "Résumé des résultats :\n",
      "gagne-change\n",
      "True     66.99\n",
      "False    33.01\n",
      "Name: proportion, dtype: float64\n",
      "\n",
      "Probabilité de gagner en changeant (7a) : 66.99 %\n"
     ]
    }
   ],
   "source": [
    "\n",
    "\n",
    "def monty_brutaleq7a(Simulations):\n",
    "    resultats = []\n",
    "\n",
    "    for _ in range(Simulations):\n",
    "        choix_initial = 1  \n",
    "        porte_vic = random.randint(1, 3)  #Choix de la porte contenant le prix\n",
    "        if porte_vic == 1:\n",
    "            opened = random.choice([2, 3])# Monty a pour 1er choix la porte 1, Monty peut encore ouvrir la porte 2 ou 3\n",
    "        elif porte_vic == 2:\n",
    "            # Si la voiture est derrière la porte 2, Monty ne peut ouvrir que la porte 3 en 2ème choix\n",
    "            opened = 3\n",
    "        else:  # Si la voiture est derrière la porte 3 alors Monty ne peut ouvrir que la porte 2\n",
    "            opened = 2\n",
    "\n",
    "        # On change de porte pour celle n'ayant pas encore été ouverte\n",
    "        nouvelles_portes = [p for p in [1,2,3] if p != choix_initial and p != opened]\n",
    "        choix_change = nouvelles_portes[0] #Stockage de la porte n'ayant pas été ouverte\n",
    "\n",
    "        # Stockage de résultats\n",
    "        resultats.append({\n",
    "            'choix_initial': choix_initial,\n",
    "            'porte_vic': porte_vic,\n",
    "            'porte_ouverte': opened,\n",
    "            'choix_a_changement': choix_change,\n",
    "            'gagne-change': choix_change == porte_vic\n",
    "        })\n",
    "\n",
    "    df = pd.DataFrame(resultats)\n",
    "    return df\n",
    "\n",
    "\n",
    "# Simulation\n",
    "nmbr_simulation = 10000\n",
    "df_monty = monty_brutaleq7a(nmbr_simulation)\n",
    "\n",
    "# Affichage des 50 premiers jeux\n",
    "print(df_monty.head(50))\n",
    "print(\"\\nRésumé des résultats :\")\n",
    "print(df_monty['gagne-change'].value_counts(normalize=True)*100)\n",
    "proba_7a = df_monty['gagne-change'].mean() * 100  # moyenne = proportion de True * 100\n",
    "print(f\"\\nProbabilité de gagner en changeant (7a) : {proba_7a:.2f} %\")\n",
    "\n"
   ]
  },
  {
   "cell_type": "markdown",
   "id": "81c2ba0f",
   "metadata": {},
   "source": [
    "Question 7b"
   ]
  },
  {
   "cell_type": "code",
   "execution_count": 4,
   "id": "f952791b",
   "metadata": {},
   "outputs": [
    {
     "name": "stdout",
     "output_type": "stream",
     "text": [
      "     porte_vic  porte_ouverte  choix_apres_changement  gagne_change\n",
      "0            1              2                       3         False\n",
      "1            1              2                       3         False\n",
      "2            3              2                       3          True\n",
      "3            2              3                       2          True\n",
      "4            1              2                       3         False\n",
      "..         ...            ...                     ...           ...\n",
      "495          2              3                       2          True\n",
      "496          1              2                       3         False\n",
      "497          2              3                       2          True\n",
      "498          3              2                       3          True\n",
      "499          3              2                       3          True\n",
      "\n",
      "[500 rows x 4 columns]\n",
      "Probabilité de gagner en changeant quand Monty ouvre la porte 2 : 57.05 %\n"
     ]
    }
   ],
   "source": [
    "def monty_brutaleq7b(Simulations):\n",
    "    resultats = []\n",
    "\n",
    "    for _ in range(Simulations):\n",
    "        choix_initial = 1  \n",
    "        porte_vic = random.randint(1, 3)  # Porte victorieuse\n",
    "\n",
    "        # Règle de Monty avec biais\n",
    "        if porte_vic == 1:\n",
    "            opened = 2 if random.random() < 0.75 else 3\n",
    "        elif porte_vic == 2:\n",
    "            opened = 3\n",
    "        else:  \n",
    "            opened = 2\n",
    "\n",
    "        # Portes après changement\n",
    "        nouvelles_portes = [p for p in [1,2,3] if p != choix_initial and p != opened]\n",
    "        choix_change = nouvelles_portes[0]\n",
    "\n",
    "        resultats.append({\n",
    "            'porte_vic': porte_vic,\n",
    "            'porte_ouverte': opened,\n",
    "            'choix_apres_changement': choix_change,\n",
    "            'gagne_change': choix_change == porte_vic\n",
    "        })\n",
    "\n",
    "    df = pd.DataFrame(resultats)\n",
    "    return df\n",
    "\n",
    "\n",
    "# Simuler nommbres_de_simulations parties de Monty Hall\n",
    "nommbres_de_simulation = 100000\n",
    "df_monty = monty_brutaleq7b(nommbres_de_simulation)\n",
    "#Moyenne ramené à 100\n",
    "res_cond = df_monty.groupby('porte_ouverte')['gagne_change'].mean() * 100\n",
    "\n",
    "\n",
    "print(df_monty.head(500))\n",
    "\n",
    "print(f\"Probabilité de gagner en changeant quand Monty ouvre la porte 2 : {res_cond[2]:.2f} %\")"
   ]
  },
  {
   "cell_type": "markdown",
   "id": "84d315cb",
   "metadata": {},
   "source": [
    "Question 7c"
   ]
  },
  {
   "cell_type": "code",
   "execution_count": 11,
   "id": "5b432dbc",
   "metadata": {},
   "outputs": [
    {
     "name": "stdout",
     "output_type": "stream",
     "text": [
      "\n",
      "Tableau (50 premières lignes, Monty ouvre la porte 3) :\n",
      " choix_initial  porte_vic  porte_ouverte  choix_apres_changement  gagne_change\n",
      "             1          1              3                       2         False\n",
      "             1          2              3                       2          True\n",
      "             1          2              3                       2          True\n",
      "             1          2              3                       2          True\n",
      "             1          1              3                       2         False\n",
      "             1          1              3                       2         False\n",
      "             1          1              3                       2         False\n",
      "             1          2              3                       2          True\n",
      "             1          2              3                       2          True\n",
      "             1          2              3                       2          True\n",
      "             1          2              3                       2          True\n",
      "             1          2              3                       2          True\n",
      "             1          2              3                       2          True\n",
      "             1          2              3                       2          True\n",
      "             1          2              3                       2          True\n",
      "             1          2              3                       2          True\n",
      "             1          2              3                       2          True\n",
      "             1          2              3                       2          True\n",
      "             1          2              3                       2          True\n",
      "             1          2              3                       2          True\n",
      "             1          2              3                       2          True\n",
      "             1          2              3                       2          True\n",
      "             1          2              3                       2          True\n",
      "             1          2              3                       2          True\n",
      "             1          1              3                       2         False\n",
      "             1          1              3                       2         False\n",
      "             1          2              3                       2          True\n",
      "             1          2              3                       2          True\n",
      "             1          2              3                       2          True\n",
      "             1          1              3                       2         False\n",
      "             1          2              3                       2          True\n",
      "             1          2              3                       2          True\n",
      "             1          1              3                       2         False\n",
      "             1          2              3                       2          True\n",
      "             1          2              3                       2          True\n",
      "             1          2              3                       2          True\n",
      "             1          2              3                       2          True\n",
      "             1          2              3                       2          True\n",
      "             1          2              3                       2          True\n",
      "             1          1              3                       2         False\n",
      "             1          1              3                       2         False\n",
      "             1          2              3                       2          True\n",
      "             1          2              3                       2          True\n",
      "             1          2              3                       2          True\n",
      "             1          2              3                       2          True\n",
      "             1          2              3                       2          True\n",
      "             1          2              3                       2          True\n",
      "             1          2              3                       2          True\n",
      "             1          2              3                       2          True\n",
      "             1          1              3                       2         False\n",
      "\n",
      "Probabilité de gagner en changeant sachant que Monty ouvre la porte 3 : 79.82 %\n",
      "     porte_vic  porte_ouverte  choix_apres_changement  gagne_change\n",
      "0            3              2                       3          True\n",
      "1            3              2                       3          True\n",
      "2            1              2                       3         False\n",
      "3            2              3                       2          True\n",
      "4            3              2                       3          True\n",
      "..         ...            ...                     ...           ...\n",
      "495          1              2                       3         False\n",
      "496          2              3                       2          True\n",
      "497          2              3                       2          True\n",
      "498          1              2                       3         False\n",
      "499          1              3                       2         False\n",
      "\n",
      "[500 rows x 4 columns]\n",
      "Résumé des 3 questions :\n",
      "gagne_change\n",
      "True     66.914\n",
      "False    33.086\n",
      "Name: proportion, dtype: float64\n",
      "\n",
      "Probabilités conditionnelles de gagner en changeant :\n",
      "\n",
      "Probabilité de gagner en changeant quand Monty ouvre la porte 3 : 80.10 %\n"
     ]
    }
   ],
   "source": [
    "def monty_brutaleq7c(Simulations):\n",
    "    resultats = []\n",
    "    for _ in range(Simulations):\n",
    "        choix_initial = 1  \n",
    "        porte_vic = random.randint(1, 3)  # Porte victorieuse\n",
    "\n",
    "        # Règle de Monty avec biais\n",
    "        if porte_vic == 1:\n",
    "            opened = 2 if random.random() < 0.75 else 3\n",
    "        elif porte_vic == 2:\n",
    "            opened = 3\n",
    "        else:  # porte_vic == 3\n",
    "            opened = 2\n",
    "\n",
    "        # Porte après changement\n",
    "        nouvelles_portes = [p for p in [1,2,3] if p != choix_initial and p != opened]\n",
    "        choix_change = nouvelles_portes[0]\n",
    "\n",
    "        resultats.append({\n",
    "            'choix_initial': choix_initial,\n",
    "            'porte_vic': porte_vic,\n",
    "            'porte_ouverte': opened,\n",
    "            'choix_apres_changement': choix_change,\n",
    "            'gagne_change': choix_change == porte_vic\n",
    "        })\n",
    "\n",
    "    df = pd.DataFrame(resultats)\n",
    "\n",
    "    # On ne garde que les cas où Monty a ouvert la porte 3\n",
    "    cond_df = df[df['porte_ouverte'] == 3]\n",
    "\n",
    "    # Résultats des issues de Monty hall\n",
    "    print(\"\\nTableau (50 premières lignes, Monty ouvre la porte 3) :\")\n",
    "    print(cond_df.head(50).to_string(index=False))\n",
    "\n",
    "    # Probabilités conditionnelles \n",
    "    proba_cond = cond_df['gagne_change'].mean() * 100\n",
    "    #On calcule la probabilité de gagner ou la porte 3\n",
    "    print(f\"\\nProbabilité de gagner en changeant sachant que Monty ouvre la porte 3 : {proba_cond:.2f} %\")\n",
    "\n",
    "    return cond_df\n",
    "\n",
    "\n",
    "nmbr_simulation = 100000\n",
    "df_cond = monty_brutaleq7c(nmbr_simulation)\n",
    "\n",
    "\n",
    "\n",
    "print(df_monty.head(500))\n",
    "print(\"Résumé des 3 questions :\")\n",
    "print(df_monty['gagne_change'].value_counts(normalize=True)*100)\n",
    "\n",
    "\n",
    "print(\"\\nProbabilités conditionnelles de gagner en changeant :\")\n",
    "\n",
    "print(f\"\\nProbabilité de gagner en changeant quand Monty ouvre la porte 3 : {res_cond[3]:.2f} %\")\n",
    "\n"
   ]
  },
  {
   "cell_type": "code",
   "execution_count": 10,
   "id": "784b1fee",
   "metadata": {},
   "outputs": [
    {
     "name": "stdout",
     "output_type": "stream",
     "text": [
      "\n",
      " Probabilité absolue de gagner en changeant : 66.73 %\n",
      " Probabilité de gagner en changeant quand Monty ouvre la porte 2 : 56.94 %\n",
      "\n",
      "Tableau (50 premières lignes, Monty ouvre la porte 3) :\n",
      " choix_initial  porte_vic  porte_ouverte  choix_apres_changement  gagne_change\n",
      "             1          2              3                       2          True\n",
      "             1          2              3                       2          True\n",
      "             1          2              3                       2          True\n",
      "             1          2              3                       2          True\n",
      "             1          2              3                       2          True\n",
      "             1          1              3                       2         False\n",
      "             1          2              3                       2          True\n",
      "             1          2              3                       2          True\n",
      "             1          2              3                       2          True\n",
      "             1          2              3                       2          True\n",
      "             1          2              3                       2          True\n",
      "             1          2              3                       2          True\n",
      "             1          2              3                       2          True\n",
      "             1          1              3                       2         False\n",
      "             1          1              3                       2         False\n",
      "             1          2              3                       2          True\n",
      "             1          2              3                       2          True\n",
      "             1          2              3                       2          True\n",
      "             1          2              3                       2          True\n",
      "             1          1              3                       2         False\n",
      "             1          1              3                       2         False\n",
      "             1          2              3                       2          True\n",
      "             1          2              3                       2          True\n",
      "             1          1              3                       2         False\n",
      "             1          2              3                       2          True\n",
      "             1          2              3                       2          True\n",
      "             1          1              3                       2         False\n",
      "             1          2              3                       2          True\n",
      "             1          2              3                       2          True\n",
      "             1          2              3                       2          True\n",
      "             1          2              3                       2          True\n",
      "             1          2              3                       2          True\n",
      "             1          2              3                       2          True\n",
      "             1          1              3                       2         False\n",
      "             1          2              3                       2          True\n",
      "             1          1              3                       2         False\n",
      "             1          2              3                       2          True\n",
      "             1          2              3                       2          True\n",
      "             1          2              3                       2          True\n",
      "             1          2              3                       2          True\n",
      "             1          2              3                       2          True\n",
      "             1          2              3                       2          True\n",
      "             1          2              3                       2          True\n",
      "             1          1              3                       2         False\n",
      "             1          2              3                       2          True\n",
      "             1          2              3                       2          True\n",
      "             1          2              3                       2          True\n",
      "             1          1              3                       2         False\n",
      "             1          2              3                       2          True\n",
      "             1          2              3                       2          True\n",
      "\n",
      "Probabilité de gagner en changeant sachant que Monty ouvre la porte 3 : 80.20 %\n"
     ]
    }
   ],
   "source": [
    "# Question 7a\n",
    "nmbr_simulation = 100000\n",
    "df_7a = monty_brutaleq7a(nmbr_simulation)\n",
    "proba_7a = df_7a['gagne-change'].mean() * 100\n",
    "print(f\"\\n Probabilité absolue de gagner en changeant : {proba_7a:.2f} %\")\n",
    "\n",
    "#Monty avec un biais\n",
    "nmbr_simulation = 100000\n",
    "df_7b = monty_brutaleq7b(nmbr_simulation)\n",
    "res_cond = df_7b.groupby('porte_ouverte')['gagne_change'].mean() * 100\n",
    "print(f\" Probabilité de gagner en changeant quand Monty ouvre la porte 2 : {res_cond[2]:.2f} %\")\n",
    "\n",
    "# Question 7c biaisé porte 3\n",
    "df_7c = monty_brutaleq7c(nmbr_simulation)\n",
    "proba_7c = df_7c['gagne_change'].mean() * 100\n"
   ]
  }
 ],
 "metadata": {
  "kernelspec": {
   "display_name": "Python 3",
   "language": "python",
   "name": "python3"
  },
  "language_info": {
   "codemirror_mode": {
    "name": "ipython",
    "version": 3
   },
   "file_extension": ".py",
   "mimetype": "text/x-python",
   "name": "python",
   "nbconvert_exporter": "python",
   "pygments_lexer": "ipython3",
   "version": "3.13.7"
  }
 },
 "nbformat": 4,
 "nbformat_minor": 5
}
