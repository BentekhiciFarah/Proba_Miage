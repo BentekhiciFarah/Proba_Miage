{
 "cells": [
  {
   "cell_type": "markdown",
   "id": "d457837c",
   "metadata": {},
   "source": [
    "# Exercice 7 du TD2 : "
   ]
  },
  {
   "cell_type": "markdown",
   "id": "bfe4ca90",
   "metadata": {},
   "source": [
    "#### Considérons une version revisitée du paradoxe de Monty Hall. Cette fois, Monty préfère ouvrir la porte 2 (P = 3/4), plutôt que la 3, lorsqu’il a le choix entre ces deux portes. Considérons le cas où vous avez choisi initialement la porte 1.\n",
    "\n",
    "#### (a) Calculer la probabilité absolue (non-conditionnelle) que la stratégie de toujours changer son choix initial soit gagnante (non-conditionnelle : pas de conditionsur la porte ouverte par Monty).\n",
    "\n",
    "#### (b) Calculer la probabilité que la stratégie de toujours changer son choix initial soit gagnante, sachant que Monty a ouvert la porte 2.\n",
    "\n",
    "#### (c) Idem, sachant que Monty a ouvert la porte 3."
   ]
  },
  {
   "cell_type": "markdown",
   "id": "3709190e",
   "metadata": {},
   "source": [
    "## Méthode analytique : "
   ]
  },
  {
   "cell_type": "markdown",
   "id": "2f6267b9",
   "metadata": {},
   "source": [
    "#### a) La probabilité absolue que la stratégie de changer son choix soit toujours gagnante indépendamment du choix de Monty : "
   ]
  },
  {
   "cell_type": "code",
   "execution_count": 4,
   "id": "a256d79b",
   "metadata": {},
   "outputs": [
    {
     "name": "stdout",
     "output_type": "stream",
     "text": [
      "La probabilité de gagner dès le premier choix est de :  33.33%\n"
     ]
    }
   ],
   "source": [
    "cardinal = 3                                # 3 portes au total \n",
    "\n",
    "V1 = 1                                      # Déclaration de la chance que la voiture se trouve derrière une porte donnée \n",
    "V2 = 1 \n",
    "V3 = 1 \n",
    "\n",
    "choix_1 = V1 / cardinal                     # Probabilité du premier choix : choisir la porte 1 \n",
    "print(\"La probabilité de gagner dès le premier choix est de : \", f\"{choix_1 * 100:.2f}%\")"
   ]
  },
  {
   "cell_type": "markdown",
   "id": "2a5e3398",
   "metadata": {},
   "source": [
    "#### Calculons la probabilité de gagner en changeant son choix avec la LOTP : \n",
    "#### $$\\mathbb{P}(Choix_2) = \\sum_{i=1}^{3} \\mathbb{P}(G \\cap V_i) = \\sum_{i=1}^{3} \\mathbb{P}(G \\mid V_i) \\cdot \\mathbb{P}(V_i)$$\n"
   ]
  },
  {
   "cell_type": "code",
   "execution_count": null,
   "id": "99408e55",
   "metadata": {},
   "outputs": [
    {
     "name": "stdout",
     "output_type": "stream",
     "text": [
      "La probabilité de gagner en changeant son premier choix est de :  66.67%\n"
     ]
    }
   ],
   "source": [
    "# Discussion des cas : P(choix_2) = P(gagner si la voiture est derrière P1) + P(gagner si la voiture est derrière P2) + P(gagner si la voiture est derrière P3)\n",
    " \n",
    "choix_21 = 0 * (V1 / cardinal)                  # Cas 1 : la voiture derriere P1 donc si je change je perds \n",
    "\n",
    "choix_22 = 1 * (V2 / cardinal)                  # Cas 2 : la voiture est derrièe P2 donc Monty ouvre P3. Si je change, je gagne                    \n",
    "\n",
    "choix_23 = 1 * (V3 / cardinal)                  # Cas 3 : la voitue est derrière P3 donc Monty ouvre P2. Si je change, je gagne \n",
    "\n",
    "choix_2 = (choix_21 + choix_22 + choix_23)      # Sommer les probabilités des trois cas \n",
    "\n",
    "print(\"La probabilité de gagner en changeant son premier choix est de : \", f\"{choix_2 * 100:.2f}%\")                                                    # Affichage en %   "
   ]
  },
  {
   "cell_type": "markdown",
   "id": "249f1e14",
   "metadata": {},
   "source": [
    "#### b) la probabilité que la stratégie de toujours changer son choix initial soit gagnante, sachant que Monty a ouvert la porte 2 : "
   ]
  },
  {
   "cell_type": "markdown",
   "id": "24e784a6",
   "metadata": {},
   "source": [
    "#### Pour que le changement de son choix soit gagnant, la voiture se trouve obligatoirement derrière P3. Calculons la probabilité conditionnelle en utilisant Bayes : \n",
    "#### $$P(V3 \\mid P2) = \\frac{P(P2 \\mid V3)  \\cdot  P(V3)}{P(P2)}$$\n",
    "\n"
   ]
  },
  {
   "cell_type": "code",
   "execution_count": null,
   "id": "3cb6b12f",
   "metadata": {},
   "outputs": [],
   "source": []
  }
 ],
 "metadata": {
  "kernelspec": {
   "display_name": "Python 3",
   "language": "python",
   "name": "python3"
  },
  "language_info": {
   "codemirror_mode": {
    "name": "ipython",
    "version": 3
   },
   "file_extension": ".py",
   "mimetype": "text/x-python",
   "name": "python",
   "nbconvert_exporter": "python",
   "pygments_lexer": "ipython3",
   "version": "3.13.7"
  }
 },
 "nbformat": 4,
 "nbformat_minor": 5
}
