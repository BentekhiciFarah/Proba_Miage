{
 "cells": [
  {
   "cell_type": "markdown",
   "id": "8ebda014",
   "metadata": {},
   "source": [
    "# Exercice 3 du TP3 : "
   ]
  },
  {
   "cell_type": "markdown",
   "id": "c35566b8",
   "metadata": {},
   "source": [
    "#### Dans un tournoi d’échecs, 10 parties sont jouées indépendamment. Chaque partie\n",
    "#### se termine par une victoire de l’un des joueurs avec une probabilité de 0.4 et par\n",
    "#### un match nul avec une probabilité de 0.6. Trouvez la probabilité qu’exactement 5\n",
    "#### parties se terminent par un match nul."
   ]
  },
  {
   "cell_type": "code",
   "execution_count": 38,
   "id": "1fa0d86f",
   "metadata": {},
   "outputs": [],
   "source": [
    "import numpy as np \n",
    "import matplotlib.pyplot as plt \n",
    "from scipy.stats import binom \n",
    "import pandas as pd\n",
    "import random"
   ]
  },
  {
   "cell_type": "markdown",
   "id": "50729e4f",
   "metadata": {},
   "source": [
    "## Solution analytique : "
   ]
  },
  {
   "cell_type": "markdown",
   "id": "50ccabee",
   "metadata": {},
   "source": [
    "## Solution brute force : "
   ]
  },
  {
   "cell_type": "code",
   "execution_count": 39,
   "id": "43048420",
   "metadata": {},
   "outputs": [
    {
     "name": "stdout",
     "output_type": "stream",
     "text": [
      "       Partie_1  Partie_2  Partie_3  Partie_4  Partie_5  Partie_6  Partie_7  \\\n",
      "0             1         1         1         0         1         1         0   \n",
      "1             0         1         0         1         1         0         0   \n",
      "2             0         1         0         0         1         0         1   \n",
      "3             1         1         1         1         0         0         0   \n",
      "4             0         0         1         0         0         1         0   \n",
      "...         ...       ...       ...       ...       ...       ...       ...   \n",
      "99995         0         0         1         0         0         1         1   \n",
      "99996         1         1         0         0         0         1         1   \n",
      "99997         1         1         1         0         1         1         1   \n",
      "99998         1         1         0         0         1         0         1   \n",
      "99999         1         1         0         0         0         0         1   \n",
      "\n",
      "       Partie_8  Partie_9  Partie_10  \n",
      "0             0         1          1  \n",
      "1             0         1          0  \n",
      "2             0         1          1  \n",
      "3             1         0          0  \n",
      "4             1         1          1  \n",
      "...         ...       ...        ...  \n",
      "99995         1         0          1  \n",
      "99996         1         1          1  \n",
      "99997         1         1          1  \n",
      "99998         1         1          1  \n",
      "99999         1         1          1  \n",
      "\n",
      "[100000 rows x 10 columns]\n"
     ]
    }
   ],
   "source": [
    "n = 10                  # nbr de parties \n",
    "p = 0.6                 # Proba d'avoir un match nul \n",
    "N = 100000           # Nbr de tournois simulé \n",
    "\n",
    "iter = []               # Tableau pour stocker chaque tournoi \n",
    "for _ in range (N) :\n",
    "    tournoi = []\n",
    "    for i in range (n) : \n",
    "        if random.random() < 0.6 : \n",
    "            tournoi.append(1)                       # match nul obtenu = succès de Bernouilly \n",
    "        else : \n",
    "            tournoi.append(0)                       # match non nul    = Echec de Bernouilly \n",
    "    iter.append(tournoi)                            # Ajouter tournoi sur le grand tableau \n",
    "\n",
    "# Transformation en DataFrame\n",
    "df = pd.DataFrame(iter, columns = [f\"Partie_{i + 1}\" for i in range(n)])\n",
    "print(df)\n"
   ]
  },
  {
   "cell_type": "code",
   "execution_count": 40,
   "id": "63279c40",
   "metadata": {},
   "outputs": [
    {
     "name": "stdout",
     "output_type": "stream",
     "text": [
      "       Partie_1  Partie_2  Partie_3  Partie_4  Partie_5  Partie_6  Partie_7  \\\n",
      "0             1         1         1         0         1         1         0   \n",
      "1             0         1         0         1         1         0         0   \n",
      "2             0         1         0         0         1         0         1   \n",
      "3             1         1         1         1         0         0         0   \n",
      "4             0         0         1         0         0         1         0   \n",
      "...         ...       ...       ...       ...       ...       ...       ...   \n",
      "99995         0         0         1         0         0         1         1   \n",
      "99996         1         1         0         0         0         1         1   \n",
      "99997         1         1         1         0         1         1         1   \n",
      "99998         1         1         0         0         1         0         1   \n",
      "99999         1         1         0         0         0         0         1   \n",
      "\n",
      "       Partie_8  Partie_9  Partie_10  Matchs nuls  \n",
      "0             0         1          1            7  \n",
      "1             0         1          0            4  \n",
      "2             0         1          1            5  \n",
      "3             1         0          0            5  \n",
      "4             1         1          1            5  \n",
      "...         ...       ...        ...          ...  \n",
      "99995         1         0          1            5  \n",
      "99996         1         1          1            7  \n",
      "99997         1         1          1            9  \n",
      "99998         1         1          1            7  \n",
      "99999         1         1          1            6  \n",
      "\n",
      "[100000 rows x 11 columns]\n"
     ]
    }
   ],
   "source": [
    "df[\"Matchs nuls\"] = df.sum(axis = 1)                # Compter le nbr de matchs nuls en additionnant toutes les colonnes de chaque ligne\n",
    "print(df)"
   ]
  },
  {
   "cell_type": "code",
   "execution_count": 41,
   "id": "c903c067",
   "metadata": {},
   "outputs": [
    {
     "name": "stdout",
     "output_type": "stream",
     "text": [
      "       Partie_1  Partie_2  Partie_3  Partie_4  Partie_5  Partie_6  Partie_7  \\\n",
      "2             0         1         0         0         1         0         1   \n",
      "3             1         1         1         1         0         0         0   \n",
      "4             0         0         1         0         0         1         0   \n",
      "5             0         1         1         0         0         1         1   \n",
      "10            0         0         1         0         1         0         0   \n",
      "...         ...       ...       ...       ...       ...       ...       ...   \n",
      "99984         1         1         1         0         0         1         0   \n",
      "99985         1         1         0         1         0         0         1   \n",
      "99990         0         1         1         1         0         1         0   \n",
      "99991         1         0         1         0         0         0         1   \n",
      "99995         0         0         1         0         0         1         1   \n",
      "\n",
      "       Partie_8  Partie_9  Partie_10  Matchs nuls  \n",
      "2             0         1          1            5  \n",
      "3             1         0          0            5  \n",
      "4             1         1          1            5  \n",
      "5             0         1          0            5  \n",
      "10            1         1          1            5  \n",
      "...         ...       ...        ...          ...  \n",
      "99984         0         0          1            5  \n",
      "99985         0         0          1            5  \n",
      "99990         1         0          0            5  \n",
      "99991         1         0          1            5  \n",
      "99995         1         0          1            5  \n",
      "\n",
      "[19975 rows x 11 columns]\n"
     ]
    }
   ],
   "source": [
    "df_5 = df[df[\"Matchs nuls\"] == 5]               # Garder qe les colonnes ou le nbr match nul = 5 \n",
    "print(df_5)"
   ]
  },
  {
   "cell_type": "code",
   "execution_count": 42,
   "id": "6788044f",
   "metadata": {},
   "outputs": [
    {
     "name": "stdout",
     "output_type": "stream",
     "text": [
      "Le nombre de matchs nuls est :  19975\n",
      "La probabilité d'avoir 5 matchs nuls est de :  19.975 %\n"
     ]
    }
   ],
   "source": [
    "print(\"Le nombre de matchs nuls est : \", len(df_5))\n",
    "print(\"La probabilité d'avoir 5 matchs nuls est de : \", (len(df_5) / N) * 100, \"%\")"
   ]
  },
  {
   "cell_type": "code",
   "execution_count": null,
   "id": "56ee6e0e",
   "metadata": {},
   "outputs": [],
   "source": [
    "# Fonction entière : qui calcule la probabilité d'avoir 5 matchs nuls dans un tournoi de 10 parties pour N itérations \n",
    "def brute_force(N) : \n",
    "    n = 10                   \n",
    "    p = 0.6                            \n",
    "\n",
    "    iter = []                \n",
    "    for _ in range (N) :\n",
    "        tournoi = []\n",
    "        for i in range (n) : \n",
    "            if random.random() < 0.6 : \n",
    "                tournoi.append(1)                        \n",
    "            else : \n",
    "                tournoi.append(0)                        \n",
    "        iter.append(tournoi)                             \n",
    "                            \n",
    "\n",
    "    # Transformation en DataFrame\n",
    "    df = pd.DataFrame(iter, columns = [f\"Partie_{i + 1}\" for i in range(n)])\n",
    "\n",
    "    df[\"Matchs nuls\"] = df.sum(axis = 1)                \n",
    "    df_5 = df[df[\"Matchs nuls\"] == 5]                   \n",
    "\n",
    "    return ((len(df_5) / N) * 100)\n"
   ]
  },
  {
   "cell_type": "code",
   "execution_count": 57,
   "id": "add46d6b",
   "metadata": {},
   "outputs": [
    {
     "name": "stdout",
     "output_type": "stream",
     "text": [
      "La proba d'obtenir 5 matchs nuls après N tournois est de :  20.388895835938477 %\n"
     ]
    }
   ],
   "source": [
    "N = 15994\n",
    "print(\"La proba d'obtenir 5 matchs nuls après N tournois est de : \", brute_force(N), \"%\")"
   ]
  }
 ],
 "metadata": {
  "kernelspec": {
   "display_name": "Python 3",
   "language": "python",
   "name": "python3"
  },
  "language_info": {
   "codemirror_mode": {
    "name": "ipython",
    "version": 3
   },
   "file_extension": ".py",
   "mimetype": "text/x-python",
   "name": "python",
   "nbconvert_exporter": "python",
   "pygments_lexer": "ipython3",
   "version": "3.13.7"
  }
 },
 "nbformat": 4,
 "nbformat_minor": 5
}
