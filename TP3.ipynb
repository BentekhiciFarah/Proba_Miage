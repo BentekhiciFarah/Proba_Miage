{
 "cells": [
  {
   "cell_type": "markdown",
   "id": "8ebda014",
   "metadata": {},
   "source": [
    "# Exercice 3 du TP3 : "
   ]
  },
  {
   "cell_type": "markdown",
   "id": "c35566b8",
   "metadata": {},
   "source": [
    "#### Dans un tournoi d’échecs, 10 parties sont jouées indépendamment. Chaque partie\n",
    "#### se termine par une victoire de l’un des joueurs avec une probabilité de 0.4 et par\n",
    "#### un match nul avec une probabilité de 0.6. Trouvez la probabilité qu’exactement 5\n",
    "#### parties se terminent par un match nul."
   ]
  },
  {
   "cell_type": "code",
   "execution_count": 4,
   "id": "1fa0d86f",
   "metadata": {},
   "outputs": [],
   "source": [
    "import numpy as np \n",
    "import matplotlib.pyplot as plt \n",
    "from scipy.stats import binom \n",
    "import pandas as pd\n",
    "import random"
   ]
  },
  {
   "cell_type": "markdown",
   "id": "50729e4f",
   "metadata": {},
   "source": [
    "## Solution analytique : "
   ]
  },
  {
   "cell_type": "markdown",
   "id": "50ccabee",
   "metadata": {},
   "source": [
    "## Solution brute force : "
   ]
  },
  {
   "cell_type": "code",
   "execution_count": 29,
   "id": "43048420",
   "metadata": {},
   "outputs": [
    {
     "name": "stdout",
     "output_type": "stream",
     "text": [
      "       Partie_1  Partie_2  Partie_3  Partie_4  Partie_5  Partie_6  Partie_7  \\\n",
      "0             1         1         0         1         0         1         0   \n",
      "1             0         0         0         1         1         1         1   \n",
      "2             0         1         1         1         1         1         1   \n",
      "3             1         0         0         0         0         0         1   \n",
      "4             1         0         1         1         1         0         1   \n",
      "...         ...       ...       ...       ...       ...       ...       ...   \n",
      "99995         1         1         0         1         1         1         1   \n",
      "99996         0         0         1         1         1         1         1   \n",
      "99997         1         0         0         1         0         0         1   \n",
      "99998         1         0         0         1         1         0         0   \n",
      "99999         1         1         1         1         1         1         1   \n",
      "\n",
      "       Partie_8  Partie_9  Partie_10  \n",
      "0             1         1          1  \n",
      "1             0         1          1  \n",
      "2             1         1          0  \n",
      "3             1         0          1  \n",
      "4             1         0          0  \n",
      "...         ...       ...        ...  \n",
      "99995         1         1          0  \n",
      "99996         1         0          1  \n",
      "99997         1         1          1  \n",
      "99998         1         1          1  \n",
      "99999         1         1          0  \n",
      "\n",
      "[100000 rows x 10 columns]\n"
     ]
    }
   ],
   "source": [
    "n = 10                  # nbr de parties \n",
    "p = 0.6                 # Proba d'avoir un match nul \n",
    "N = 100000           # Nbr de tournois simulé \n",
    "\n",
    "iter = []               # Tableau pour stocker chaque tournoi \n",
    "for _ in range (N) :\n",
    "    tournoi = []\n",
    "    for i in range (n) : \n",
    "        if random.random() < 0.6 : \n",
    "            tournoi.append(1)                       # match nul obtenu = succès de Bernouilly \n",
    "        else : \n",
    "            tournoi.append(0)                       # match non nul    = Echec de Bernouilly \n",
    "    iter.append(tournoi)                            # Ajouter tournoi sur le grand tableau \n",
    "\n",
    "# Transformation en DataFrame\n",
    "df = pd.DataFrame(iter, columns = [f\"Partie_{i + 1}\" for i in range(n)])\n",
    "print(df)\n"
   ]
  },
  {
   "cell_type": "code",
   "execution_count": 30,
   "id": "63279c40",
   "metadata": {},
   "outputs": [
    {
     "name": "stdout",
     "output_type": "stream",
     "text": [
      "       Partie_1  Partie_2  Partie_3  Partie_4  Partie_5  Partie_6  Partie_7  \\\n",
      "0             1         1         0         1         0         1         0   \n",
      "1             0         0         0         1         1         1         1   \n",
      "2             0         1         1         1         1         1         1   \n",
      "3             1         0         0         0         0         0         1   \n",
      "4             1         0         1         1         1         0         1   \n",
      "...         ...       ...       ...       ...       ...       ...       ...   \n",
      "99995         1         1         0         1         1         1         1   \n",
      "99996         0         0         1         1         1         1         1   \n",
      "99997         1         0         0         1         0         0         1   \n",
      "99998         1         0         0         1         1         0         0   \n",
      "99999         1         1         1         1         1         1         1   \n",
      "\n",
      "       Partie_8  Partie_9  Partie_10  Matchs nuls  \n",
      "0             1         1          1            7  \n",
      "1             0         1          1            6  \n",
      "2             1         1          0            8  \n",
      "3             1         0          1            4  \n",
      "4             1         0          0            6  \n",
      "...         ...       ...        ...          ...  \n",
      "99995         1         1          0            8  \n",
      "99996         1         0          1            7  \n",
      "99997         1         1          1            6  \n",
      "99998         1         1          1            6  \n",
      "99999         1         1          0            9  \n",
      "\n",
      "[100000 rows x 11 columns]\n"
     ]
    }
   ],
   "source": [
    "df[\"Matchs nuls\"] = df.sum(axis = 1)                # Compter le nbr de matchs nuls en additionnant toutes les colonnes de chaque ligne\n",
    "print(df)"
   ]
  },
  {
   "cell_type": "code",
   "execution_count": 31,
   "id": "c903c067",
   "metadata": {},
   "outputs": [
    {
     "name": "stdout",
     "output_type": "stream",
     "text": [
      "       Partie_1  Partie_2  Partie_3  Partie_4  Partie_5  Partie_6  Partie_7  \\\n",
      "5             0         0         1         1         1         0         0   \n",
      "6             0         1         0         0         1         1         0   \n",
      "9             0         1         0         0         0         1         0   \n",
      "12            1         0         1         0         0         1         1   \n",
      "13            1         0         0         1         0         0         0   \n",
      "...         ...       ...       ...       ...       ...       ...       ...   \n",
      "99960         0         1         0         1         1         0         1   \n",
      "99964         0         0         0         1         1         1         1   \n",
      "99966         0         0         0         1         1         1         0   \n",
      "99969         0         0         0         1         0         0         1   \n",
      "99985         0         1         0         1         0         0         1   \n",
      "\n",
      "       Partie_8  Partie_9  Partie_10  Matchs nuls  \n",
      "5             1         1          0            5  \n",
      "6             0         1          1            5  \n",
      "9             1         1          1            5  \n",
      "12            0         1          0            5  \n",
      "13            1         1          1            5  \n",
      "...         ...       ...        ...          ...  \n",
      "99960         0         1          0            5  \n",
      "99964         1         0          0            5  \n",
      "99966         1         0          1            5  \n",
      "99969         1         1          1            5  \n",
      "99985         1         1          0            5  \n",
      "\n",
      "[20134 rows x 11 columns]\n"
     ]
    }
   ],
   "source": [
    "df_5 = df[df[\"Matchs nuls\"] == 5]\n",
    "print(df_5)"
   ]
  },
  {
   "cell_type": "code",
   "execution_count": 33,
   "id": "6788044f",
   "metadata": {},
   "outputs": [
    {
     "name": "stdout",
     "output_type": "stream",
     "text": [
      "Le nombre de matchs nuls est :  20134\n",
      "La probabilité d'avoir 5 matchs nuls est de :  20.134 %\n"
     ]
    }
   ],
   "source": [
    "print(\"Le nombre de matchs nuls est : \", len(df_5))\n",
    "print(\"La probabilité d'avoir 5 matchs nuls est de : \", (len(df_5) / N) * 100, \"%\")"
   ]
  }
 ],
 "metadata": {
  "kernelspec": {
   "display_name": "Python 3",
   "language": "python",
   "name": "python3"
  },
  "language_info": {
   "codemirror_mode": {
    "name": "ipython",
    "version": 3
   },
   "file_extension": ".py",
   "mimetype": "text/x-python",
   "name": "python",
   "nbconvert_exporter": "python",
   "pygments_lexer": "ipython3",
   "version": "3.13.7"
  }
 },
 "nbformat": 4,
 "nbformat_minor": 5
}
