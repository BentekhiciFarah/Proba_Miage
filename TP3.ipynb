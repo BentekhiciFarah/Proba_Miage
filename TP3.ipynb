{
 "cells": [
  {
   "cell_type": "markdown",
   "id": "8ebda014",
   "metadata": {},
   "source": [
    "## Exercice"
   ]
  }
 ],
 "metadata": {
  "language_info": {
   "name": "python"
  }
 },
 "nbformat": 4,
 "nbformat_minor": 5
}
