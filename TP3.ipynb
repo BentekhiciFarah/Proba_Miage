{
 "cells": [
  {
   "cell_type": "markdown",
   "id": "8ebda014",
   "metadata": {},
   "source": [
    "# Exercice 3 du TP3 : "
   ]
  },
  {
   "cell_type": "markdown",
   "id": "c35566b8",
   "metadata": {},
   "source": [
    "#### Dans un tournoi d’échecs, 10 parties sont jouées indépendamment. Chaque partie\n",
    "#### se termine par une victoire de l’un des joueurs avec une probabilité de 0.4 et par\n",
    "#### un match nul avec une probabilité de 0.6. Trouvez la probabilité qu’exactement 5\n",
    "#### parties se terminent par un match nul."
   ]
  },
  {
   "cell_type": "code",
   "id": "1fa0d86f",
   "metadata": {
    "ExecuteTime": {
     "end_time": "2025-10-11T11:48:57.961061Z",
     "start_time": "2025-10-11T11:48:57.957130Z"
    }
   },
   "source": [
    "import numpy as np \n",
    "import matplotlib.pyplot as plt \n",
    "from scipy.stats import binom \n",
    "import pandas as pd\n",
    "import random"
   ],
   "outputs": [],
   "execution_count": 2
  },
  {
   "cell_type": "markdown",
   "id": "50729e4f",
   "metadata": {},
   "source": [
    "## Solution analytique : "
   ]
  },
  {
   "cell_type": "markdown",
   "id": "50ccabee",
   "metadata": {},
   "source": [
    "## Solution brute force : "
   ]
  },
  {
   "cell_type": "code",
   "id": "43048420",
   "metadata": {
    "ExecuteTime": {
     "end_time": "2025-10-11T11:49:19.072514Z",
     "start_time": "2025-10-11T11:49:18.584970Z"
    }
   },
   "source": [
    "n = 10                  # nbr de parties \n",
    "p = 0.6                 # Proba d'avoir un match nul \n",
    "N = 100000           # Nbr de tournois simulé \n",
    "\n",
    "iter = []               # Tableau pour stocker chaque tournoi \n",
    "for _ in range (N) :\n",
    "    tournoi = []\n",
    "    for i in range (n) : \n",
    "        if random.random() < 0.6 : \n",
    "            tournoi.append(1)                       # match nul obtenu = succès de Bernouilly \n",
    "        else : \n",
    "            tournoi.append(0)                       # match non nul    = Echec de Bernouilly \n",
    "    iter.append(tournoi)                            # Ajouter tournoi sur le grand tableau \n",
    "\n",
    "# Transformation en DataFrame\n",
    "df = pd.DataFrame(iter, columns = [f\"Partie_{i + 1}\" for i in range(n)])\n",
    "print(df)\n"
   ],
   "outputs": [
    {
     "name": "stdout",
     "output_type": "stream",
     "text": [
      "       Partie_1  Partie_2  Partie_3  Partie_4  Partie_5  Partie_6  Partie_7  \\\n",
      "0             1         0         1         1         1         1         0   \n",
      "1             1         1         1         1         1         1         0   \n",
      "2             0         0         1         0         0         0         1   \n",
      "3             1         0         1         0         1         1         1   \n",
      "4             0         1         1         0         1         0         1   \n",
      "...         ...       ...       ...       ...       ...       ...       ...   \n",
      "99995         1         0         0         1         0         1         0   \n",
      "99996         0         1         1         0         0         1         1   \n",
      "99997         0         0         1         0         1         0         1   \n",
      "99998         1         0         1         0         0         1         1   \n",
      "99999         0         0         0         1         1         1         1   \n",
      "\n",
      "       Partie_8  Partie_9  Partie_10  \n",
      "0             0         1          1  \n",
      "1             0         1          1  \n",
      "2             0         1          0  \n",
      "3             1         1          1  \n",
      "4             1         1          1  \n",
      "...         ...       ...        ...  \n",
      "99995         1         0          1  \n",
      "99996         1         0          0  \n",
      "99997         0         1          1  \n",
      "99998         0         0          0  \n",
      "99999         0         0          1  \n",
      "\n",
      "[100000 rows x 10 columns]\n"
     ]
    }
   ],
   "execution_count": 3
  },
  {
   "cell_type": "code",
   "id": "63279c40",
   "metadata": {
    "ExecuteTime": {
     "end_time": "2025-10-11T11:49:24.873715Z",
     "start_time": "2025-10-11T11:49:24.828189Z"
    }
   },
   "source": [
    "df[\"Matchs nuls\"] = df.sum(axis = 1)                # Compter le nbr de matchs nuls en additionnant toutes les colonnes de chaque ligne\n",
    "print(df)"
   ],
   "outputs": [
    {
     "name": "stdout",
     "output_type": "stream",
     "text": [
      "       Partie_1  Partie_2  Partie_3  Partie_4  Partie_5  Partie_6  Partie_7  \\\n",
      "0             1         0         1         1         1         1         0   \n",
      "1             1         1         1         1         1         1         0   \n",
      "2             0         0         1         0         0         0         1   \n",
      "3             1         0         1         0         1         1         1   \n",
      "4             0         1         1         0         1         0         1   \n",
      "...         ...       ...       ...       ...       ...       ...       ...   \n",
      "99995         1         0         0         1         0         1         0   \n",
      "99996         0         1         1         0         0         1         1   \n",
      "99997         0         0         1         0         1         0         1   \n",
      "99998         1         0         1         0         0         1         1   \n",
      "99999         0         0         0         1         1         1         1   \n",
      "\n",
      "       Partie_8  Partie_9  Partie_10  Matchs nuls  \n",
      "0             0         1          1           14  \n",
      "1             0         1          1           16  \n",
      "2             0         1          0            6  \n",
      "3             1         1          1           16  \n",
      "4             1         1          1           14  \n",
      "...         ...       ...        ...          ...  \n",
      "99995         1         0          1           10  \n",
      "99996         1         0          0           10  \n",
      "99997         0         1          1           10  \n",
      "99998         0         0          0            8  \n",
      "99999         0         0          1           10  \n",
      "\n",
      "[100000 rows x 11 columns]\n"
     ]
    }
   ],
   "execution_count": 5
  },
  {
   "cell_type": "code",
   "id": "c903c067",
   "metadata": {
    "ExecuteTime": {
     "end_time": "2025-10-11T11:49:32.456634Z",
     "start_time": "2025-10-11T11:49:32.440686Z"
    }
   },
   "source": [
    "df_5 = df[df[\"Matchs nuls\"] == 5]               # Garder qe les colonnes ou le nbr match nul = 5 \n",
    "print(df_5)"
   ],
   "outputs": [
    {
     "name": "stdout",
     "output_type": "stream",
     "text": [
      "Empty DataFrame\n",
      "Columns: [Partie_1, Partie_2, Partie_3, Partie_4, Partie_5, Partie_6, Partie_7, Partie_8, Partie_9, Partie_10, Matchs nuls]\n",
      "Index: []\n"
     ]
    }
   ],
   "execution_count": 6
  },
  {
   "cell_type": "code",
   "id": "6788044f",
   "metadata": {
    "ExecuteTime": {
     "end_time": "2025-10-11T11:50:03.981308Z",
     "start_time": "2025-10-11T11:50:03.976094Z"
    }
   },
   "source": [
    "print(\"Le nombre de matchs nuls est : \", len(df_5))\n",
    "print(\"La probabilité d'avoir 5 matchs nuls est de : \", (len(df_5) / N) * 100, \"%\")"
   ],
   "outputs": [
    {
     "name": "stdout",
     "output_type": "stream",
     "text": [
      "Le nombre de matchs nuls est :  0\n",
      "La probabilité d'avoir 5 matchs nuls est de :  0.0 %\n"
     ]
    }
   ],
   "execution_count": 7
  },
  {
   "cell_type": "code",
   "id": "56ee6e0e",
   "metadata": {
    "ExecuteTime": {
     "end_time": "2025-10-11T11:50:07.199553Z",
     "start_time": "2025-10-11T11:50:07.195254Z"
    }
   },
   "source": [
    "# Fonction entière : qui calcule la probabilité d'avoir 5 matchs nuls dans un tournoi de 10 parties pour N itérations \n",
    "def brute_force(N) : \n",
    "    n = 10                   \n",
    "    p = 0.6                            \n",
    "\n",
    "    iter = []                \n",
    "    for _ in range (N) :\n",
    "        tournoi = []\n",
    "        for i in range (n) : \n",
    "            if random.random() < 0.6 : \n",
    "                tournoi.append(1)                        \n",
    "            else : \n",
    "                tournoi.append(0)                        \n",
    "        iter.append(tournoi)                             \n",
    "                            \n",
    "\n",
    "    # Transformation en DataFrame\n",
    "    df = pd.DataFrame(iter, columns = [f\"Partie_{i + 1}\" for i in range(n)])\n",
    "\n",
    "    df[\"Matchs nuls\"] = df.sum(axis = 1)                \n",
    "    df_5 = df[df[\"Matchs nuls\"] == 5]                   \n",
    "\n",
    "    return ((len(df_5) / N) * 100)\n"
   ],
   "outputs": [],
   "execution_count": 8
  },
  {
   "cell_type": "code",
   "id": "add46d6b",
   "metadata": {
    "ExecuteTime": {
     "end_time": "2025-10-11T11:50:14.718335Z",
     "start_time": "2025-10-11T11:50:14.650732Z"
    }
   },
   "source": [
    "N = 15994\n",
    "print(\"La proba d'obtenir 5 matchs nuls après N tournois est de : \", brute_force(N), \"%\")"
   ],
   "outputs": [
    {
     "name": "stdout",
     "output_type": "stream",
     "text": [
      "La proba d'obtenir 5 matchs nuls après N tournois est de :  20.332624734275353 %\n"
     ]
    }
   ],
   "execution_count": 9
  },
  {
   "metadata": {},
   "cell_type": "markdown",
   "source": "Solution probabiliste\n",
   "id": "2bd5f098efd6aec7"
  },
  {
   "metadata": {
    "ExecuteTime": {
     "end_time": "2025-10-11T12:11:17.702170Z",
     "start_time": "2025-10-11T12:11:17.696439Z"
    }
   },
   "cell_type": "code",
   "source": [
    "import numpy as np\n",
    "import pandas as pd\n",
    "\n",
    "# Initialisation du générateur de nombres aléatoires\n",
    "SEED = 1234\n",
    "rng = np.random.default_rng(SEED)\n",
    "\n",
    "# Fonction simulée \n",
    "def probabiliste_fonction(N, n=10, p=0.6, k=5, rng=None):\n",
    "    \"\"\"\n",
    "    Calcule la probabilité (en %) d'obtenir exactement `k` matchs nuls sur `n` parties\"\"\"\n",
    "    if rng is None:\n",
    "        rng = np.random.default_rng()\n",
    "\n",
    "    # Génère une matrice (N x n) de 0 ou 1 selon la proba p\n",
    "    data = rng.binomial(1, p, size=(N, n))\n",
    "\n",
    "    # Compte les matchs nuls (i.e. les \"1\") pour chaque tournoi\n",
    "    nb_matchs_nuls = data.sum(axis=1)\n",
    "\n",
    "    # Calcule la fréquence des tournois avec exactement k matchs nuls\n",
    "    frequence = np.mean(nb_matchs_nuls == k)\n",
    "\n",
    "    return frequence * 100  # en pourcentage\n"
   ],
   "id": "72156f2b2a037a13",
   "outputs": [],
   "execution_count": 14
  },
  {
   "metadata": {
    "ExecuteTime": {
     "end_time": "2025-10-11T11:50:30.237732Z",
     "start_time": "2025-10-11T11:50:30.202168Z"
    }
   },
   "cell_type": "code",
   "source": [
    "resultat = probabiliste_fonction(N=100000, n=10, p=0.6, k=5, rng=rng)\n",
    "print(f\"Probabilité estimée d'avoir exactement 5 matchs nuls : {resultat:.2f}%\")\n"
   ],
   "id": "e211b0362d8ffc67",
   "outputs": [
    {
     "name": "stdout",
     "output_type": "stream",
     "text": [
      "Probabilité estimée d'avoir exactement 5 matchs nuls : 20.12%\n"
     ]
    }
   ],
   "execution_count": 11
  },
  {
   "metadata": {
    "ExecuteTime": {
     "end_time": "2025-10-11T12:18:13.453522Z",
     "start_time": "2025-10-11T12:18:13.259356Z"
    }
   },
   "cell_type": "code",
   "source": [
    "valeurs_possibles_k = list(range(n + 1))\n",
    "probas = [probabiliste_fonction(N=N, n=n, p=p, k=k, rng=rng) for k in valeurs_possibles_k]\n",
    "plt.figure(figsize=(6, 6))\n",
    "plt.bar(valeurs_possibles_k, probas, color='blue', edgecolor='black')\n",
    "plt.xlabel(\"Nombre de matchs nuls (k) dans un tournoi de 10 parties\")\n",
    "plt.ylabel(\"Probabilité simulée (%)\")\n",
    "plt.title(f\"Distribution simulée des matchs nuls\\n(N = {N}, p = {p})\")\n",
    "plt.xticks(valeurs_possibles_k)\n",
    "plt.grid(axis='y', linestyle='--', alpha=0.7)\n",
    "plt.tight_layout()\n",
    "plt.show()"
   ],
   "id": "e5c330a7dfc51f03",
   "outputs": [
    {
     "data": {
      "text/plain": [
       "<Figure size 600x600 with 1 Axes>"
      ],
      "image/png": "[encoded data removed]"
     },
     "metadata": {},
     "output_type": "display_data",
     "jetTransient": {
      "display_id": null
     }
    }
   ],
   "execution_count": 16
  },
  {
   "metadata": {},
   "cell_type": "code",
   "outputs": [],
   "execution_count": null,
   "source": "",
   "id": "7ca822d9e50e8c66"
  }
 ],
 "metadata": {
  "kernelspec": {
   "display_name": "Python 3",
   "language": "python",
   "name": "python3"
  },
  "language_info": {
   "codemirror_mode": {
    "name": "ipython",
    "version": 3
   },
   "file_extension": ".py",
   "mimetype": "text/x-python",
   "name": "python",
   "nbconvert_exporter": "python",
   "pygments_lexer": "ipython3",
   "version": "3.13.7"
  }
 },
 "nbformat": 4,
 "nbformat_minor": 5
}
