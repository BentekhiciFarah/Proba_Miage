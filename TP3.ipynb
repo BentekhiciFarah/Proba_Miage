{
 "cells": [
  {
   "cell_type": "markdown",
   "id": "8ebda014",
   "metadata": {},
   "source": [
    "# Exercice 3 du TP3 : "
   ]
  },
  {
   "cell_type": "markdown",
   "id": "c35566b8",
   "metadata": {},
   "source": [
    "#### Dans un tournoi d’échecs, 10 parties sont jouées indépendamment. Chaque partie\n",
    "#### se termine par une victoire de l’un des joueurs avec une probabilité de 0.4 et par\n",
    "#### un match nul avec une probabilité de 0.6. Trouvez la probabilité qu’exactement 5\n",
    "#### parties se terminent par un match nul."
   ]
  },
  {
   "cell_type": "code",
   "execution_count": 47,
   "id": "1fa0d86f",
   "metadata": {
    "ExecuteTime": {
     "end_time": "2025-10-11T11:48:57.961061Z",
     "start_time": "2025-10-11T11:48:57.957130Z"
    }
   },
   "outputs": [],
   "source": [
    "import numpy as np \n",
    "import matplotlib.pyplot as plt \n",
    "from scipy.stats import binom \n",
    "import pandas as pd\n",
    "from math import comb\n",
    "import random"
   ]
  },
  {
   "cell_type": "markdown",
   "id": "50729e4f",
   "metadata": {},
   "source": [
    "## Solution analytique : "
   ]
  },
  {
   "cell_type": "markdown",
   "id": "0eb91ddb",
   "metadata": {},
   "source": [
    "\n",
    "On définit la variable aléatoire :\n",
    "\n",
    "$$\n",
    "X = \\text{nombre de matchs nuls sur 10 parties}\n",
    "$$\n",
    "\n",
    "Chaque partie est un **essai de Bernoulli** (soit \"nul\", soit \"non nul\").  \n",
    "Les 10 parties sont indépendantes, donc :\n",
    "\n",
    "$$\n",
    "X \\sim \\text{Binomiale}(n = 10, p = 0.6)\n",
    "$$\n",
    "\n",
    "La **fonction de masse de probabilité (PMF)** d’une loi binomiale est :\n",
    "\n",
    "$$\n",
    "P(X = k) = \\binom{n}{k} \\, p^k \\, (1 - p)^{n - k}\n",
    "$$\n"
   ]
  },
  {
   "cell_type": "code",
   "execution_count": 48,
   "id": "bda288b7",
   "metadata": {},
   "outputs": [],
   "source": [
    "nb_matchs = 10         # nombre total de parties\n",
    "proba_nul = 0.6        # probabilité qu'une partie soit nulle\n",
    "nb_nuls_voulus = 5     # nombre de matchs nuls recherchés\n",
    "N = 100000              # nombre de simulations"
   ]
  },
  {
   "cell_type": "code",
   "execution_count": 49,
   "id": "570bef5d",
   "metadata": {},
   "outputs": [
    {
     "name": "stdout",
     "output_type": "stream",
     "text": [
      "Probabilité formule binomiale : 20.07 %\n",
      "Probabilité fonction PMF      : 20.07 %\n"
     ]
    }
   ],
   "source": [
    "proba_formule = comb(nb_matchs, nb_nuls_voulus) * (proba_nul**nb_nuls_voulus) * ((1 - proba_nul)**(nb_matchs - nb_nuls_voulus))\n",
    "\n",
    "proba_pmf = binom.pmf(nb_nuls_voulus, nb_matchs, proba_nul)\n",
    "\n",
    "print(f\"Probabilité formule binomiale : {proba_formule*100:.2f} %\")\n",
    "print(f\"Probabilité fonction PMF      : {proba_pmf*100:.2f} %\")\n",
    "\n",
    "\n",
    "# Calcul des probabilités pour chaque valeurs\n",
    "valeurs_possibles_k = list(range(nb_matchs + 1))\n",
    "probas_analytique = [comb(nb_matchs, k) * (proba_nul**k) * ((1 - proba_nul)**(nb_matchs - k)) * 100\n",
    "                     for k in valeurs_possibles_k]\n"
   ]
  },
  {
   "cell_type": "code",
   "execution_count": 28,
   "id": "0658251c",
   "metadata": {},
   "outputs": [],
   "source": [
    "#Visualisation PMF\n",
    "x = np.arange(0, n+1)\n",
    "pmf_theorique = binom.pmf(x, n, p)"
   ]
  },
  {
   "cell_type": "markdown",
   "id": "50ccabee",
   "metadata": {},
   "source": [
    "## Solution brute force : "
   ]
  },
  {
   "cell_type": "code",
   "execution_count": 29,
   "id": "43048420",
   "metadata": {
    "ExecuteTime": {
     "end_time": "2025-10-11T11:49:19.072514Z",
     "start_time": "2025-10-11T11:49:18.584970Z"
    }
   },
   "outputs": [
    {
     "name": "stdout",
     "output_type": "stream",
     "text": [
      "       Partie_1  Partie_2  Partie_3  Partie_4  Partie_5  Partie_6  Partie_7  \\\n",
      "0             1         1         1         0         0         1         1   \n",
      "1             1         0         0         1         1         1         0   \n",
      "2             1         0         1         1         0         1         1   \n",
      "3             0         1         0         1         0         1         0   \n",
      "4             0         1         0         0         1         0         1   \n",
      "...         ...       ...       ...       ...       ...       ...       ...   \n",
      "99995         1         1         0         1         0         1         1   \n",
      "99996         1         0         0         0         0         1         1   \n",
      "99997         1         1         0         0         1         0         1   \n",
      "99998         1         0         1         1         0         0         0   \n",
      "99999         1         1         1         1         1         0         0   \n",
      "\n",
      "       Partie_8  Partie_9  Partie_10  \n",
      "0             0         0          1  \n",
      "1             1         1          0  \n",
      "2             1         0          0  \n",
      "3             0         1          0  \n",
      "4             1         1          0  \n",
      "...         ...       ...        ...  \n",
      "99995         0         0          1  \n",
      "99996         1         0          0  \n",
      "99997         1         1          1  \n",
      "99998         1         0          0  \n",
      "99999         1         1          1  \n",
      "\n",
      "[100000 rows x 10 columns]\n"
     ]
    }
   ],
   "source": [
    "n = 10                  # nbr de parties \n",
    "p = 0.6                 # Proba d'avoir un match nul \n",
    "N = 100000           # Nbr de tournois simulé \n",
    "\n",
    "iter = []               # Tableau pour stocker chaque tournoi \n",
    "for _ in range (N) :\n",
    "    tournoi = []\n",
    "    for i in range (n) : \n",
    "        if random.random() < 0.6 : \n",
    "            tournoi.append(1)                       # match nul obtenu = succès de Bernouilly \n",
    "        else : \n",
    "            tournoi.append(0)                       # match non nul    = Echec de Bernouilly \n",
    "    iter.append(tournoi)                            # Ajouter tournoi sur le grand tableau \n",
    "\n",
    "# Transformation en DataFrame\n",
    "df = pd.DataFrame(iter, columns = [f\"Partie_{i + 1}\" for i in range(n)])\n",
    "print(df)\n"
   ]
  },
  {
   "cell_type": "code",
   "execution_count": 30,
   "id": "63279c40",
   "metadata": {
    "ExecuteTime": {
     "end_time": "2025-10-11T11:49:24.873715Z",
     "start_time": "2025-10-11T11:49:24.828189Z"
    }
   },
   "outputs": [
    {
     "name": "stdout",
     "output_type": "stream",
     "text": [
      "       Partie_1  Partie_2  Partie_3  Partie_4  Partie_5  Partie_6  Partie_7  \\\n",
      "0             1         1         1         0         0         1         1   \n",
      "1             1         0         0         1         1         1         0   \n",
      "2             1         0         1         1         0         1         1   \n",
      "3             0         1         0         1         0         1         0   \n",
      "4             0         1         0         0         1         0         1   \n",
      "...         ...       ...       ...       ...       ...       ...       ...   \n",
      "99995         1         1         0         1         0         1         1   \n",
      "99996         1         0         0         0         0         1         1   \n",
      "99997         1         1         0         0         1         0         1   \n",
      "99998         1         0         1         1         0         0         0   \n",
      "99999         1         1         1         1         1         0         0   \n",
      "\n",
      "       Partie_8  Partie_9  Partie_10  Matchs nuls  \n",
      "0             0         0          1            6  \n",
      "1             1         1          0            6  \n",
      "2             1         0          0            6  \n",
      "3             0         1          0            4  \n",
      "4             1         1          0            5  \n",
      "...         ...       ...        ...          ...  \n",
      "99995         0         0          1            6  \n",
      "99996         1         0          0            4  \n",
      "99997         1         1          1            7  \n",
      "99998         1         0          0            4  \n",
      "99999         1         1          1            8  \n",
      "\n",
      "[100000 rows x 11 columns]\n"
     ]
    }
   ],
   "source": [
    "df[\"Matchs nuls\"] = df.sum(axis = 1)                # Compter le nbr de matchs nuls en additionnant toutes les colonnes de chaque ligne\n",
    "print(df)"
   ]
  },
  {
   "cell_type": "code",
   "execution_count": 31,
   "id": "c903c067",
   "metadata": {
    "ExecuteTime": {
     "end_time": "2025-10-11T11:49:32.456634Z",
     "start_time": "2025-10-11T11:49:32.440686Z"
    }
   },
   "outputs": [
    {
     "name": "stdout",
     "output_type": "stream",
     "text": [
      "       Partie_1  Partie_2  Partie_3  Partie_4  Partie_5  Partie_6  Partie_7  \\\n",
      "4             0         1         0         0         1         0         1   \n",
      "5             1         1         0         0         1         0         1   \n",
      "6             1         1         0         1         0         1         0   \n",
      "7             0         1         1         0         0         0         1   \n",
      "8             1         1         0         1         0         0         0   \n",
      "...         ...       ...       ...       ...       ...       ...       ...   \n",
      "99964         0         0         1         1         0         1         1   \n",
      "99966         0         0         1         1         0         0         1   \n",
      "99969         0         1         1         0         0         0         1   \n",
      "99972         1         0         1         0         0         1         1   \n",
      "99988         1         1         0         1         0         0         0   \n",
      "\n",
      "       Partie_8  Partie_9  Partie_10  Matchs nuls  \n",
      "4             1         1          0            5  \n",
      "5             0         1          0            5  \n",
      "6             0         0          1            5  \n",
      "7             0         1          1            5  \n",
      "8             0         1          1            5  \n",
      "...         ...       ...        ...          ...  \n",
      "99964         0         1          0            5  \n",
      "99966         1         1          0            5  \n",
      "99969         0         1          1            5  \n",
      "99972         0         0          1            5  \n",
      "99988         1         0          1            5  \n",
      "\n",
      "[20114 rows x 11 columns]\n"
     ]
    }
   ],
   "source": [
    "df_5 = df[df[\"Matchs nuls\"] == 5]               # Garder qe les colonnes ou le nbr match nul = 5 \n",
    "print(df_5)"
   ]
  },
  {
   "cell_type": "code",
   "execution_count": 32,
   "id": "6788044f",
   "metadata": {
    "ExecuteTime": {
     "end_time": "2025-10-11T11:50:03.981308Z",
     "start_time": "2025-10-11T11:50:03.976094Z"
    }
   },
   "outputs": [
    {
     "name": "stdout",
     "output_type": "stream",
     "text": [
      "Le nombre de matchs nuls est :  20114\n",
      "La probabilité d'avoir 5 matchs nuls est de :  20.114 %\n"
     ]
    }
   ],
   "source": [
    "print(\"Le nombre de matchs nuls est : \", len(df_5))\n",
    "print(\"La probabilité d'avoir 5 matchs nuls est de : \", (len(df_5) / N) * 100, \"%\")"
   ]
  },
  {
   "cell_type": "code",
   "execution_count": 33,
   "id": "56ee6e0e",
   "metadata": {
    "ExecuteTime": {
     "end_time": "2025-10-11T11:50:07.199553Z",
     "start_time": "2025-10-11T11:50:07.195254Z"
    }
   },
   "outputs": [],
   "source": [
    "# Fonction entière : qui calcule la probabilité d'avoir 5 matchs nuls dans un tournoi de 10 parties pour N itérations \n",
    "def brute_force(N) : \n",
    "    n = 10                   \n",
    "    p = 0.6                            \n",
    "\n",
    "    iter = []                \n",
    "    for _ in range (N) :\n",
    "        tournoi = []\n",
    "        for i in range (n) : \n",
    "            if random.random() < 0.6 : \n",
    "                tournoi.append(1)                        \n",
    "            else : \n",
    "                tournoi.append(0)                        \n",
    "        iter.append(tournoi)                             \n",
    "                            \n",
    "\n",
    "    # Transformation en DataFrame\n",
    "    df = pd.DataFrame(iter, columns = [f\"Partie_{i + 1}\" for i in range(n)])\n",
    "\n",
    "    df[\"Matchs nuls\"] = df.sum(axis = 1)                \n",
    "    df_5 = df[df[\"Matchs nuls\"] == 5]                   \n",
    "\n",
    "    return ((len(df_5) / N) * 100)\n"
   ]
  },
  {
   "cell_type": "code",
   "execution_count": 34,
   "id": "add46d6b",
   "metadata": {
    "ExecuteTime": {
     "end_time": "2025-10-11T11:50:14.718335Z",
     "start_time": "2025-10-11T11:50:14.650732Z"
    }
   },
   "outputs": [
    {
     "name": "stdout",
     "output_type": "stream",
     "text": [
      "La proba d'obtenir 5 matchs nuls après N tournois est de :  19.213455045642117 %\n"
     ]
    }
   ],
   "source": [
    "N = 15994\n",
    "print(\"La proba d'obtenir 5 matchs nuls après N tournois est de : \", brute_force(N), \"%\")"
   ]
  },
  {
   "cell_type": "markdown",
   "id": "2bd5f098efd6aec7",
   "metadata": {},
   "source": [
    "## Solution probabiliste\n"
   ]
  },
  {
   "cell_type": "code",
   "execution_count": 35,
   "id": "72156f2b2a037a13",
   "metadata": {
    "ExecuteTime": {
     "end_time": "2025-10-11T12:11:17.702170Z",
     "start_time": "2025-10-11T12:11:17.696439Z"
    }
   },
   "outputs": [],
   "source": [
    "import numpy as np\n",
    "import pandas as pd\n",
    "\n",
    "# Initialisation du générateur de nombres aléatoires\n",
    "SEED = 1234\n",
    "rng = np.random.default_rng(SEED)\n",
    "\n",
    "# Fonction simulée \n",
    "def probabiliste_fonction(N, n=10, p=0.6, k=5, rng=None):\n",
    "    \"\"\"\n",
    "    Calcule la probabilité (en %) d'obtenir exactement `k` matchs nuls sur `n` parties\"\"\"\n",
    "    if rng is None:\n",
    "        rng = np.random.default_rng()\n",
    "\n",
    "    # Génère une matrice (N x n) de 0 ou 1 selon la proba p\n",
    "    data = rng.binomial(1, p, size=(N, n))\n",
    "\n",
    "    # Compte les matchs nuls (i.e. les \"1\") pour chaque tournoi\n",
    "    nb_matchs_nuls = data.sum(axis=1)\n",
    "\n",
    "    # Calcule la fréquence des tournois avec exactement k matchs nuls\n",
    "    frequence = np.mean(nb_matchs_nuls == k)\n",
    "\n",
    "    return frequence * 100  # en pourcentage\n"
   ]
  },
  {
   "cell_type": "code",
   "execution_count": 36,
   "id": "e211b0362d8ffc67",
   "metadata": {
    "ExecuteTime": {
     "end_time": "2025-10-11T11:50:30.237732Z",
     "start_time": "2025-10-11T11:50:30.202168Z"
    }
   },
   "outputs": [
    {
     "name": "stdout",
     "output_type": "stream",
     "text": [
      "Probabilité estimée d'avoir exactement 5 matchs nuls : 20.12%\n"
     ]
    }
   ],
   "source": [
    "resultat = probabiliste_fonction(N=100000, n=10, p=0.6, k=5, rng=rng)\n",
    "print(f\"Probabilité estimée d'avoir exactement 5 matchs nuls : {resultat:.2f}%\")\n"
   ]
  },
  {
   "cell_type": "code",
   "execution_count": 37,
   "id": "e5c330a7dfc51f03",
   "metadata": {
    "ExecuteTime": {
     "end_time": "2025-10-11T12:18:13.453522Z",
     "start_time": "2025-10-11T12:18:13.259356Z"
    }
   },
   "outputs": [
    {
     "data": {
      "image/png": "[encoded data removed]",
      "text/plain": [
       "<Figure size 600x600 with 1 Axes>"
      ]
     },
     "metadata": {},
     "output_type": "display_data"
    }
   ],
   "source": [
    "valeurs_possibles_k = list(range(n + 1))\n",
    "probas = [probabiliste_fonction(N=N, n=n, p=p, k=k, rng=rng) for k in valeurs_possibles_k]\n",
    "plt.figure(figsize=(6, 6))\n",
    "plt.bar(valeurs_possibles_k, probas, color='blue', edgecolor='black')\n",
    "plt.xlabel(\"Nombre de matchs nuls (k) dans un tournoi de 10 parties\")\n",
    "plt.ylabel(\"Probabilité simulée (%)\")\n",
    "plt.title(f\"Distribution simulée des matchs nuls\\n(N = {N}, p = {p})\")\n",
    "plt.xticks(valeurs_possibles_k)\n",
    "plt.grid(axis='y', linestyle='--', alpha=0.7)\n",
    "plt.tight_layout()\n",
    "plt.show()"
   ]
  },
  {
   "cell_type": "code",
   "execution_count": 50,
   "id": "7ca822d9e50e8c66",
   "metadata": {},
   "outputs": [
    {
     "data": {
      "image/png": "[encoded data removed]",
      "text/plain": [
       "<Figure size 600x600 with 1 Axes>"
      ]
     },
     "metadata": {},
     "output_type": "display_data"
    }
   ],
   "source": [
    "plt.figure(figsize=(6, 6))\n",
    "bar_width = 0.4\n",
    "\n",
    "# Barres bleues : résultats simulés\n",
    "plt.bar(np.array(valeurs_possibles_k) - bar_width/2,probas,width=bar_width,color='royalblue',edgecolor='black',label='Simulation (méthode probabiliste)')\n",
    "\n",
    "# Barres orange : résultats analytiques\n",
    "plt.bar(np.array(valeurs_possibles_k) + bar_width/2,probas_analytique,width=bar_width,color='orange',edgecolor='black',alpha=0.8,label='Valeurs analytiques (formule binomiale)')\n",
    "\n",
    "# Mise en forme du graphique\n",
    "plt.xlabel(\"Nombre de matchs nuls (k) dans un tournoi de 10 parties\")\n",
    "plt.ylabel(\"Probabilité simulée (%)\")\n",
    "plt.title(f\"Distribution simulée des matchs nuls\\n(N = {N}, p = {p})\")\n",
    "plt.xticks(valeurs_possibles_k)\n",
    "plt.legend()\n",
    "plt.grid(axis='y', linestyle='--', alpha=0.7)\n",
    "plt.tight_layout()\n",
    "plt.show()"
   ]
  }
 ],
 "metadata": {
  "kernelspec": {
   "display_name": "Python 3",
   "language": "python",
   "name": "python3"
  },
  "language_info": {
   "codemirror_mode": {
    "name": "ipython",
    "version": 3
   },
   "file_extension": ".py",
   "mimetype": "text/x-python",
   "name": "python",
   "nbconvert_exporter": "python",
   "pygments_lexer": "ipython3",
   "version": "3.13.7"
  }
 },
 "nbformat": 4,
 "nbformat_minor": 5
}
