{
 "cells": [
  {
   "cell_type": "markdown",
   "id": "8ebda014",
   "metadata": {},
   "source": [
    "# Exercice 3 du TP3 : "
   ]
  },
  {
   "cell_type": "markdown",
   "id": "c35566b8",
   "metadata": {},
   "source": [
    "#### Dans un tournoi d’échecs, 10 parties sont jouées indépendamment. Chaque partie\n",
    "#### se termine par une victoire de l’un des joueurs avec une probabilité de 0.4 et par\n",
    "#### un match nul avec une probabilité de 0.6. Trouvez la probabilité qu’exactement 5\n",
    "#### parties se terminent par un match nul."
   ]
  },
  {
   "cell_type": "markdown",
   "id": "50729e4f",
   "metadata": {},
   "source": []
  }
 ],
 "metadata": {
  "language_info": {
   "name": "python"
  }
 },
 "nbformat": 4,
 "nbformat_minor": 5
}
